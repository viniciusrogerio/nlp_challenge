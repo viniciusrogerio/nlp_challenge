{
 "cells": [
  {
   "cell_type": "markdown",
   "metadata": {
    "id": "QR2p7rgNwc8X"
   },
   "source": [
    "# Natural Language Processing Challenge\n",
    "### By Vinicius Rogério da Silva\n",
    "[LinkedIn](https://www.linkedin.com/in/viniciusrogerio/) | [RPubs](https://rpubs.com/viniciusrogerio) | [GitHub](https://github.com/viniciusrogerio)"
   ]
  },
  {
   "cell_type": "markdown",
   "metadata": {
    "id": "5xUMt8mCwx8T"
   },
   "source": [
    "---"
   ]
  },
  {
   "cell_type": "markdown",
   "metadata": {
    "id": "Y-R_sOfPwz0l"
   },
   "source": [
    "# Introduction\n",
    "\n",
    "The field of NLP - Natural Language Processing is a part of AI dedicated to understanding text data and deriving patterns and useful information from it. One of the tasks associated with NLP is the classification of documents (texts), where algorithms are trained to automatically identify the category of the texts according to their content. This can be done both using supervised learning techniques (such as in this challenge), where there is labeled data available, or unsupervised learning, where labels do not exist in the first place.\n",
    "\n",
    "In this challenge, a dataset containing information about scientific articles in the field of Astrophysics is given. The first goal is to predict which subjects are related to each article, and as we can see further, this is a multilabel problem, since each article can be associated to multiple subjects.\n",
    "\n",
    "Finally, the ultimate goal is to predict the number of articles for each subject in each month of the test set."
   ]
  },
  {
   "cell_type": "code",
   "execution_count": 214,
   "metadata": {
    "executionInfo": {
     "elapsed": 550,
     "status": "ok",
     "timestamp": 1680555071325,
     "user": {
      "displayName": "Vinicius Rogério da Silva",
      "userId": "17284938035144075977"
     },
     "user_tz": 180
    },
    "id": "2cqwP6Yto-SN"
   },
   "outputs": [],
   "source": [
    "# Loading dependencies\n",
    "from google.colab import drive\n",
    "import pandas as pd\n",
    "# from wordcloud import WordCloud\n",
    "import ast\n",
    "import numpy as np\n",
    "from sklearn.pipeline import Pipeline\n",
    "\n",
    "import nltk\n",
    "from nltk.corpus import stopwords\n",
    "# from nltk.stem import WordNetLemmatizer\n",
    "from nltk.tokenize import word_tokenize\n",
    "from nltk.tag import pos_tag\n",
    "\n",
    "import spacy\n",
    "\n",
    "from sklearn.feature_extraction.text import TfidfVectorizer\n",
    "from sklearn.model_selection import train_test_split\n",
    "from sklearn.preprocessing import MultiLabelBinarizer\n",
    "\n",
    "from sklearn.linear_model import LogisticRegression\n",
    "from sklearn.tree import DecisionTreeClassifier\n",
    "from sklearn.ensemble import RandomForestClassifier\n",
    "\n",
    "from sklearn.multioutput import MultiOutputClassifier\n",
    "\n",
    "from sklearn.metrics import accuracy_score, precision_score, recall_score, f1_score\n",
    "\n",
    "from sklearn.neural_network import MLPClassifier\n",
    "\n",
    "import re\n",
    "\n",
    "import matplotlib.pyplot as plt\n",
    "\n",
    "import warnings\n",
    "warnings.filterwarnings('ignore')"
   ]
  },
  {
   "cell_type": "code",
   "execution_count": null,
   "metadata": {
    "colab": {
     "base_uri": "https://localhost:8080/"
    },
    "executionInfo": {
     "elapsed": 25102,
     "status": "ok",
     "timestamp": 1680544830799,
     "user": {
      "displayName": "Vinicius Rogério da Silva",
      "userId": "17284938035144075977"
     },
     "user_tz": 180
    },
    "id": "AcY4GV0goWiU",
    "outputId": "4da29478-25f9-49a3-a979-8d4571aaad7a"
   },
   "outputs": [
    {
     "name": "stdout",
     "output_type": "stream",
     "text": [
      "Mounted at /content/drive\n"
     ]
    }
   ],
   "source": [
    "# Mounting Drive\n",
    "# drive.mount('/content/drive')"
   ]
  },
  {
   "cell_type": "markdown",
   "metadata": {
    "id": "DlQiWBcO8mmV"
   },
   "source": [
    "# EDA and data preparation\n",
    "\n",
    "In this section, we first read the data and take a look at the variables. "
   ]
  },
  {
   "cell_type": "code",
   "execution_count": null,
   "metadata": {
    "colab": {
     "base_uri": "https://localhost:8080/",
     "height": 363
    },
    "executionInfo": {
     "elapsed": 2292,
     "status": "ok",
     "timestamp": 1680544833089,
     "user": {
      "displayName": "Vinicius Rogério da Silva",
      "userId": "17284938035144075977"
     },
     "user_tz": 180
    },
    "id": "S2mpielApHnH",
    "outputId": "cc80fb5e-03fa-432a-cda5-cf33c350d2b2"
   },
   "outputs": [
    {
     "data": {
      "text/html": [
       "\n",
       "  <div id=\"df-60d3f0a0-3b54-4b55-b0b2-697c59bd336a\">\n",
       "    <div class=\"colab-df-container\">\n",
       "      <div>\n",
       "<style scoped>\n",
       "    .dataframe tbody tr th:only-of-type {\n",
       "        vertical-align: middle;\n",
       "    }\n",
       "\n",
       "    .dataframe tbody tr th {\n",
       "        vertical-align: top;\n",
       "    }\n",
       "\n",
       "    .dataframe thead th {\n",
       "        text-align: right;\n",
       "    }\n",
       "</style>\n",
       "<table border=\"1\" class=\"dataframe\">\n",
       "  <thead>\n",
       "    <tr style=\"text-align: right;\">\n",
       "      <th></th>\n",
       "      <th>Title</th>\n",
       "      <th>Date</th>\n",
       "      <th>Abstract</th>\n",
       "      <th>Subjects</th>\n",
       "    </tr>\n",
       "  </thead>\n",
       "  <tbody>\n",
       "    <tr>\n",
       "      <th>0</th>\n",
       "      <td>The Neutrino Ball Model of a Quasar</td>\n",
       "      <td>1993-04-07</td>\n",
       "      <td>It is suggested that the nonorthodox model o...</td>\n",
       "      <td>['Astrophysics']</td>\n",
       "    </tr>\n",
       "    <tr>\n",
       "      <th>1</th>\n",
       "      <td>Charged Boson Stars and Vacuum Instabilities</td>\n",
       "      <td>1993-05-12</td>\n",
       "      <td>We consider charged boson stars and study th...</td>\n",
       "      <td>['Astrophysics', 'General Relativity and Quant...</td>\n",
       "    </tr>\n",
       "    <tr>\n",
       "      <th>2</th>\n",
       "      <td>Pre-main sequence lithium burning. I. Weak T T...</td>\n",
       "      <td>1993-08-31</td>\n",
       "      <td>We derive lithium abundances in 53 T Tauri s...</td>\n",
       "      <td>['Astrophysics']</td>\n",
       "    </tr>\n",
       "    <tr>\n",
       "      <th>3</th>\n",
       "      <td>Very High Energy Gamma-Rays from AGN: Cascadin...</td>\n",
       "      <td>1993-12-18</td>\n",
       "      <td>Recent high energy gamma-ray observations (E...</td>\n",
       "      <td>['Astrophysics']</td>\n",
       "    </tr>\n",
       "    <tr>\n",
       "      <th>4</th>\n",
       "      <td>From the Owl to the Eskimo: the Radiation-Gasd...</td>\n",
       "      <td>1994-04-29</td>\n",
       "      <td>We present the results of two-dimensional ra...</td>\n",
       "      <td>['Astrophysics']</td>\n",
       "    </tr>\n",
       "    <tr>\n",
       "      <th>5</th>\n",
       "      <td>Galaxy Mergers and Gravitational Lens Statistics</td>\n",
       "      <td>1994-05-05</td>\n",
       "      <td>We investigate the impact of hierarchical ga...</td>\n",
       "      <td>['Astrophysics']</td>\n",
       "    </tr>\n",
       "    <tr>\n",
       "      <th>6</th>\n",
       "      <td>The R Axion From Dynamical Supersymmetry Breaking</td>\n",
       "      <td>1994-05-20</td>\n",
       "      <td>All generic, calculable models of dynamical ...</td>\n",
       "      <td>['High Energy Physics - Phenomenology', 'Astro...</td>\n",
       "    </tr>\n",
       "    <tr>\n",
       "      <th>7</th>\n",
       "      <td>Ubc/Laval 2.7-Meter Liquid Mirror Telescope</td>\n",
       "      <td>1994-06-21</td>\n",
       "      <td>We report the successful development and ope...</td>\n",
       "      <td>['Astrophysics']</td>\n",
       "    </tr>\n",
       "    <tr>\n",
       "      <th>8</th>\n",
       "      <td>About the Malmquist bias in the determination ...</td>\n",
       "      <td>1994-07-26</td>\n",
       "      <td>We provide the mathematical framework which ...</td>\n",
       "      <td>['Astrophysics']</td>\n",
       "    </tr>\n",
       "    <tr>\n",
       "      <th>9</th>\n",
       "      <td>The Theory of Everything vs the Theory of Anyt...</td>\n",
       "      <td>1994-08-18</td>\n",
       "      <td>To what extent can our limited set of observ...</td>\n",
       "      <td>['General Relativity and Quantum Cosmology', '...</td>\n",
       "    </tr>\n",
       "  </tbody>\n",
       "</table>\n",
       "</div>\n",
       "      <button class=\"colab-df-convert\" onclick=\"convertToInteractive('df-60d3f0a0-3b54-4b55-b0b2-697c59bd336a')\"\n",
       "              title=\"Convert this dataframe to an interactive table.\"\n",
       "              style=\"display:none;\">\n",
       "        \n",
       "  <svg xmlns=\"http://www.w3.org/2000/svg\" height=\"24px\"viewBox=\"0 0 24 24\"\n",
       "       width=\"24px\">\n",
       "    <path d=\"M0 0h24v24H0V0z\" fill=\"none\"/>\n",
       "    <path d=\"M18.56 5.44l.94 2.06.94-2.06 2.06-.94-2.06-.94-.94-2.06-.94 2.06-2.06.94zm-11 1L8.5 8.5l.94-2.06 2.06-.94-2.06-.94L8.5 2.5l-.94 2.06-2.06.94zm10 10l.94 2.06.94-2.06 2.06-.94-2.06-.94-.94-2.06-.94 2.06-2.06.94z\"/><path d=\"M17.41 7.96l-1.37-1.37c-.4-.4-.92-.59-1.43-.59-.52 0-1.04.2-1.43.59L10.3 9.45l-7.72 7.72c-.78.78-.78 2.05 0 2.83L4 21.41c.39.39.9.59 1.41.59.51 0 1.02-.2 1.41-.59l7.78-7.78 2.81-2.81c.8-.78.8-2.07 0-2.86zM5.41 20L4 18.59l7.72-7.72 1.47 1.35L5.41 20z\"/>\n",
       "  </svg>\n",
       "      </button>\n",
       "      \n",
       "  <style>\n",
       "    .colab-df-container {\n",
       "      display:flex;\n",
       "      flex-wrap:wrap;\n",
       "      gap: 12px;\n",
       "    }\n",
       "\n",
       "    .colab-df-convert {\n",
       "      background-color: #E8F0FE;\n",
       "      border: none;\n",
       "      border-radius: 50%;\n",
       "      cursor: pointer;\n",
       "      display: none;\n",
       "      fill: #1967D2;\n",
       "      height: 32px;\n",
       "      padding: 0 0 0 0;\n",
       "      width: 32px;\n",
       "    }\n",
       "\n",
       "    .colab-df-convert:hover {\n",
       "      background-color: #E2EBFA;\n",
       "      box-shadow: 0px 1px 2px rgba(60, 64, 67, 0.3), 0px 1px 3px 1px rgba(60, 64, 67, 0.15);\n",
       "      fill: #174EA6;\n",
       "    }\n",
       "\n",
       "    [theme=dark] .colab-df-convert {\n",
       "      background-color: #3B4455;\n",
       "      fill: #D2E3FC;\n",
       "    }\n",
       "\n",
       "    [theme=dark] .colab-df-convert:hover {\n",
       "      background-color: #434B5C;\n",
       "      box-shadow: 0px 1px 3px 1px rgba(0, 0, 0, 0.15);\n",
       "      filter: drop-shadow(0px 1px 2px rgba(0, 0, 0, 0.3));\n",
       "      fill: #FFFFFF;\n",
       "    }\n",
       "  </style>\n",
       "\n",
       "      <script>\n",
       "        const buttonEl =\n",
       "          document.querySelector('#df-60d3f0a0-3b54-4b55-b0b2-697c59bd336a button.colab-df-convert');\n",
       "        buttonEl.style.display =\n",
       "          google.colab.kernel.accessAllowed ? 'block' : 'none';\n",
       "\n",
       "        async function convertToInteractive(key) {\n",
       "          const element = document.querySelector('#df-60d3f0a0-3b54-4b55-b0b2-697c59bd336a');\n",
       "          const dataTable =\n",
       "            await google.colab.kernel.invokeFunction('convertToInteractive',\n",
       "                                                     [key], {});\n",
       "          if (!dataTable) return;\n",
       "\n",
       "          const docLinkHtml = 'Like what you see? Visit the ' +\n",
       "            '<a target=\"_blank\" href=https://colab.research.google.com/notebooks/data_table.ipynb>data table notebook</a>'\n",
       "            + ' to learn more about interactive tables.';\n",
       "          element.innerHTML = '';\n",
       "          dataTable['output_type'] = 'display_data';\n",
       "          await google.colab.output.renderOutput(dataTable, element);\n",
       "          const docLink = document.createElement('div');\n",
       "          docLink.innerHTML = docLinkHtml;\n",
       "          element.appendChild(docLink);\n",
       "        }\n",
       "      </script>\n",
       "    </div>\n",
       "  </div>\n",
       "  "
      ],
      "text/plain": [
       "                                               Title        Date  \\\n",
       "0                The Neutrino Ball Model of a Quasar  1993-04-07   \n",
       "1       Charged Boson Stars and Vacuum Instabilities  1993-05-12   \n",
       "2  Pre-main sequence lithium burning. I. Weak T T...  1993-08-31   \n",
       "3  Very High Energy Gamma-Rays from AGN: Cascadin...  1993-12-18   \n",
       "4  From the Owl to the Eskimo: the Radiation-Gasd...  1994-04-29   \n",
       "5   Galaxy Mergers and Gravitational Lens Statistics  1994-05-05   \n",
       "6  The R Axion From Dynamical Supersymmetry Breaking  1994-05-20   \n",
       "7        Ubc/Laval 2.7-Meter Liquid Mirror Telescope  1994-06-21   \n",
       "8  About the Malmquist bias in the determination ...  1994-07-26   \n",
       "9  The Theory of Everything vs the Theory of Anyt...  1994-08-18   \n",
       "\n",
       "                                            Abstract  \\\n",
       "0    It is suggested that the nonorthodox model o...   \n",
       "1    We consider charged boson stars and study th...   \n",
       "2    We derive lithium abundances in 53 T Tauri s...   \n",
       "3    Recent high energy gamma-ray observations (E...   \n",
       "4    We present the results of two-dimensional ra...   \n",
       "5    We investigate the impact of hierarchical ga...   \n",
       "6    All generic, calculable models of dynamical ...   \n",
       "7    We report the successful development and ope...   \n",
       "8    We provide the mathematical framework which ...   \n",
       "9    To what extent can our limited set of observ...   \n",
       "\n",
       "                                            Subjects  \n",
       "0                                   ['Astrophysics']  \n",
       "1  ['Astrophysics', 'General Relativity and Quant...  \n",
       "2                                   ['Astrophysics']  \n",
       "3                                   ['Astrophysics']  \n",
       "4                                   ['Astrophysics']  \n",
       "5                                   ['Astrophysics']  \n",
       "6  ['High Energy Physics - Phenomenology', 'Astro...  \n",
       "7                                   ['Astrophysics']  \n",
       "8                                   ['Astrophysics']  \n",
       "9  ['General Relativity and Quantum Cosmology', '...  "
      ]
     },
     "execution_count": 5,
     "metadata": {},
     "output_type": "execute_result"
    }
   ],
   "source": [
    "# Reading Train Data\n",
    "path = r\"/<...>\"\n",
    "train_data = pd.read_csv(path+'Train_Data.csv')\n",
    "train_data = pd.DataFrame(train_data)\n",
    "train_data.head(n=10)"
   ]
  },
  {
   "cell_type": "code",
   "execution_count": 6,
   "metadata": {
    "colab": {
     "base_uri": "https://localhost:8080/"
    },
    "executionInfo": {
     "elapsed": 12,
     "status": "ok",
     "timestamp": 1680544833090,
     "user": {
      "displayName": "Vinicius Rogério da Silva",
      "userId": "17284938035144075977"
     },
     "user_tz": 180
    },
    "id": "enZnguohyD2r",
    "outputId": "4bdc97c3-9896-4139-e2cb-08d5c6a45845"
   },
   "outputs": [
    {
     "name": "stdout",
     "output_type": "stream",
     "text": [
      "<class 'pandas.core.frame.DataFrame'>\n",
      "RangeIndex: 29191 entries, 0 to 29190\n",
      "Data columns (total 4 columns):\n",
      " #   Column    Non-Null Count  Dtype \n",
      "---  ------    --------------  ----- \n",
      " 0   Title     29191 non-null  object\n",
      " 1   Date      29191 non-null  object\n",
      " 2   Abstract  29191 non-null  object\n",
      " 3   Subjects  29191 non-null  object\n",
      "dtypes: object(4)\n",
      "memory usage: 912.3+ KB\n"
     ]
    }
   ],
   "source": [
    "train_data.info()"
   ]
  },
  {
   "cell_type": "markdown",
   "metadata": {
    "id": "PkTlkKb804B9"
   },
   "source": [
    "### A first look at the train data\n",
    "\n",
    "There are 29191 observations and 4 variables: Title of the article, Date of publication, Abstract and a list of Subjects related to the article.\n",
    "\n",
    "**It seems that the data that is going to be useful for modeling purposes is contained in both title and abstract of the article.** We will put them together later on."
   ]
  },
  {
   "cell_type": "code",
   "execution_count": 7,
   "metadata": {
    "colab": {
     "base_uri": "https://localhost:8080/"
    },
    "executionInfo": {
     "elapsed": 8,
     "status": "ok",
     "timestamp": 1680544833090,
     "user": {
      "displayName": "Vinicius Rogério da Silva",
      "userId": "17284938035144075977"
     },
     "user_tz": 180
    },
    "id": "jgMi6vdxpi8r",
    "outputId": "2cba7e9c-0537-4ba6-ef65-5765b0b9447c"
   },
   "outputs": [
    {
     "data": {
      "text/plain": [
       "array([\"['Astrophysics']\",\n",
       "       \"['Astrophysics', 'General Relativity and Quantum Cosmology']\",\n",
       "       \"['High Energy Physics - Phenomenology', 'Astrophysics', 'High Energy Physics - Theory']\",\n",
       "       ...,\n",
       "       \"['Astrophysics - Cosmology and Nongalactic Astrophysics', 'Astrophysics - Instrumentation and Methods for Astrophysics', 'Computer Science - Machine Learning']\",\n",
       "       \"['Physics - Instrumentation and Detectors', 'Astrophysics - Earth and Planetary Astrophysics', 'Astrophysics - Instrumentation and Methods for Astrophysics']\",\n",
       "       \"['Nuclear Theory', 'Astrophysics - High Energy Astrophysical Phenomena', 'Quantum Physics']\"],\n",
       "      dtype=object)"
      ]
     },
     "execution_count": 7,
     "metadata": {},
     "output_type": "execute_result"
    }
   ],
   "source": [
    "train_data.Subjects.unique()"
   ]
  },
  {
   "cell_type": "markdown",
   "metadata": {
    "id": "ki63q2D6tHHg"
   },
   "source": [
    "As said before, we see above that one single article can be associated to multiple subjects. It will be needed to transform the subject variable so we can work with it in the modeling stage."
   ]
  },
  {
   "cell_type": "code",
   "execution_count": 8,
   "metadata": {
    "executionInfo": {
     "elapsed": 349,
     "status": "ok",
     "timestamp": 1680544833780,
     "user": {
      "displayName": "Vinicius Rogério da Silva",
      "userId": "17284938035144075977"
     },
     "user_tz": 180
    },
    "id": "2C7rNf71v96n"
   },
   "outputs": [],
   "source": [
    "# Creating lists of all subjects\n",
    "all_subjects = []\n",
    "count_subjects = []\n",
    "subjects_lists = []\n",
    "\n",
    "for sub in train_data.Subjects:\n",
    "  item = ast.literal_eval(sub)\n",
    "  subjects_lists.append(item)\n",
    "  count_subjects.append(len(item))\n",
    "  for subsub in item:\n",
    "    all_subjects.append(subsub)"
   ]
  },
  {
   "cell_type": "code",
   "execution_count": 9,
   "metadata": {
    "colab": {
     "base_uri": "https://localhost:8080/"
    },
    "executionInfo": {
     "elapsed": 1300,
     "status": "ok",
     "timestamp": 1680544837383,
     "user": {
      "displayName": "Vinicius Rogério da Silva",
      "userId": "17284938035144075977"
     },
     "user_tz": 180
    },
    "id": "TFZiA0lKw6Y2",
    "outputId": "859729e9-0797-4cdf-fb37-7895322184fc"
   },
   "outputs": [
    {
     "name": "stdout",
     "output_type": "stream",
     "text": [
      "Count of total possible subjects:  111\n",
      "Max number of subjects assigned to a single article:  7\n"
     ]
    }
   ],
   "source": [
    "all_subjects = np.array(all_subjects)\n",
    "unique_subjects = np.unique(all_subjects)\n",
    "train_data[\"Subjects\"] = pd.Series(subjects_lists)\n",
    "\n",
    "print(\"Count of total possible subjects: \",len(unique_subjects))\n",
    "print(\"Max number of subjects assigned to a single article: \",max(count_subjects))\n",
    "#type(train_data.Subjects)\n"
   ]
  },
  {
   "cell_type": "markdown",
   "metadata": {
    "id": "oBHT4brb79uy"
   },
   "source": [
    "We have 111 possible subjects in total, and the max number of subjects assigned to a single article is 7."
   ]
  },
  {
   "cell_type": "code",
   "execution_count": null,
   "metadata": {
    "executionInfo": {
     "elapsed": 104781,
     "status": "ok",
     "timestamp": 1680544946829,
     "user": {
      "displayName": "Vinicius Rogério da Silva",
      "userId": "17284938035144075977"
     },
     "user_tz": 180
    },
    "id": "bkNb8kgp2hh7"
   },
   "outputs": [],
   "source": [
    "def count_subjects(unq_sub):\n",
    "\n",
    "  subject_counts = []\n",
    "\n",
    "  # Counting occurrences of each subject\n",
    "  for subject in unq_sub:\n",
    "    subject_count = 0\n",
    "    for index, row in train_data.iterrows():\n",
    "      if subject in row['Subjects']:\n",
    "        subject_count = subject_count + 1\n",
    "    current_count = (subject,subject_count)\n",
    "    subject_counts.append(current_count)\n",
    "\n",
    "  return dict(subject_counts)\n",
    "\n",
    "subject_counts = count_subjects(unique_subjects)"
   ]
  },
  {
   "cell_type": "code",
   "execution_count": 11,
   "metadata": {
    "executionInfo": {
     "elapsed": 27,
     "status": "ok",
     "timestamp": 1680544946830,
     "user": {
      "displayName": "Vinicius Rogério da Silva",
      "userId": "17284938035144075977"
     },
     "user_tz": 180
    },
    "id": "CzjIuZgn_CgE"
   },
   "outputs": [],
   "source": [
    "# Keeping only subjects with at least 50 occurrences\n",
    "# for the sake of visualization\n",
    "\n",
    "def plot_occurrences(d,min,max):\n",
    "  if max == None:\n",
    "    dict_graph = {k:v for (k,v) in d.items() if v >= min}\n",
    "  else:\n",
    "    dict_graph = {k:v for (k,v) in d.items() if v >= min and v <= max}\n",
    "\n",
    "  names = list(dict_graph.keys())\n",
    "  values = list(dict_graph.values())\n",
    "\n",
    "  plt.barh(range(len(dict_graph)), sorted(values), tick_label=names)\n",
    "  plt.show()\n"
   ]
  },
  {
   "cell_type": "code",
   "execution_count": 12,
   "metadata": {
    "colab": {
     "base_uri": "https://localhost:8080/",
     "height": 430
    },
    "executionInfo": {
     "elapsed": 27,
     "status": "ok",
     "timestamp": 1680544946831,
     "user": {
      "displayName": "Vinicius Rogério da Silva",
      "userId": "17284938035144075977"
     },
     "user_tz": 180
    },
    "id": "6BcBwgcvFBAn",
    "outputId": "19f963a2-9624-4c63-d0ae-e714d9063be1"
   },
   "outputs": [
    {
     "data": {
      "image/png": "[encoded data removed]",
      "text/plain": [
       "<Figure size 640x480 with 1 Axes>"
      ]
     },
     "metadata": {},
     "output_type": "display_data"
    }
   ],
   "source": [
    "plot_occurrences(subject_counts,50,None)"
   ]
  },
  {
   "cell_type": "markdown",
   "metadata": {
    "id": "mjMJXaIBCGEr"
   },
   "source": [
    "The graph above represents the total occurrences for subjects with at least 50 occurrences among all the articles. **We can see that articles on the Physics field appear the most.**"
   ]
  },
  {
   "cell_type": "code",
   "execution_count": 13,
   "metadata": {
    "colab": {
     "base_uri": "https://localhost:8080/",
     "height": 430
    },
    "executionInfo": {
     "elapsed": 905,
     "status": "ok",
     "timestamp": 1680544947711,
     "user": {
      "displayName": "Vinicius Rogério da Silva",
      "userId": "17284938035144075977"
     },
     "user_tz": 180
    },
    "id": "3LQLF93zDhvH",
    "outputId": "ffc34b2e-5820-4433-92ba-d190a5c03ff8"
   },
   "outputs": [
    {
     "data": {
      "image/png": "[encoded data removed]",
      "text/plain": [
       "<Figure size 640x480 with 1 Axes>"
      ]
     },
     "metadata": {},
     "output_type": "display_data"
    }
   ],
   "source": [
    "plot_occurrences(subject_counts,5,10)"
   ]
  },
  {
   "cell_type": "markdown",
   "metadata": {
    "id": "wEd3BN9pFe0D"
   },
   "source": [
    "Above we can also see the subjects that have only from 5 to 10 occurrences, and there is no predominant field among them."
   ]
  },
  {
   "cell_type": "code",
   "execution_count": 14,
   "metadata": {
    "colab": {
     "base_uri": "https://localhost:8080/"
    },
    "executionInfo": {
     "elapsed": 8,
     "status": "ok",
     "timestamp": 1680544947712,
     "user": {
      "displayName": "Vinicius Rogério da Silva",
      "userId": "17284938035144075977"
     },
     "user_tz": 180
    },
    "id": "uvEeBqA3FsOn",
    "outputId": "e30d8873-549b-497b-f885-4d7ccc221dd0"
   },
   "outputs": [
    {
     "data": {
      "text/plain": [
       "{'Astronomy and Astrophysics': 1,\n",
       " 'Astrophysics of Galaxies (astro-ph.GA), Cosmology and Nongalactic\\\\n  Astrophysics (astro-ph.CO)': 1,\n",
       " 'Computer Science - Computation and Language': 1,\n",
       " 'Computer Science - Discrete Mathematics': 1,\n",
       " 'Computer Science - Multimedia': 1,\n",
       " 'Computer Science - Networking and Internet Architecture': 1,\n",
       " 'Computer Science - Operating Systems': 1,\n",
       " 'Computer Science - Other Computer Science': 1,\n",
       " 'Computer Science - Programming Languages': 1,\n",
       " 'Computer Science - Sound': 1,\n",
       " 'Computer Science - Symbolic Computation': 1,\n",
       " 'Electrical Engineering and Systems Science - Audio and Speech Processing': 1,\n",
       " 'Mathematics - Algebraic Geometry': 1,\n",
       " 'Mathematics - Geometric Topology': 1,\n",
       " 'Mathematics - History and Overview': 1,\n",
       " 'Mathematics - Logic': 1,\n",
       " 'Mathematics - Symplectic Geometry': 1,\n",
       " 'Quantitative Biology - Biomolecules': 1,\n",
       " 'Quantitative Biology - Neurons and Cognition': 1,\n",
       " 'Quantitative Finance - Statistical Finance': 1,\n",
       " 'Statistics - Other Statistics': 1}"
      ]
     },
     "execution_count": 14,
     "metadata": {},
     "output_type": "execute_result"
    }
   ],
   "source": [
    "dict_one = {k:v for (k,v) in subject_counts.items() if v == 1}\n",
    "dict_one"
   ]
  },
  {
   "cell_type": "markdown",
   "metadata": {
    "id": "FZ-4gadaGMA2"
   },
   "source": [
    "And finally, the above subjects appeared only once. This might play an important role in the modeling stage, as stated in the conclusion."
   ]
  },
  {
   "cell_type": "markdown",
   "metadata": {
    "id": "a_GaCfQ9Vrat"
   },
   "source": [
    "### Preprocessing the data\n",
    "\n",
    "In order to apply NLP techniques, we must have in mind that the original data comes with unwanted patterns. Line breaks, excessive whitespace, symbols and all kinds of special characters might lead to errors or biases in the model estimation. So the first step of preprocessing is **cleaning the texts** so all of that unwanted stuff is removed.\n",
    "\n",
    "I'm going to treat the text information as one whole thing. So the Title and the Abstract of the articles are going to be concatenated.\n",
    "\n",
    "Function defined below performs both of these steps."
   ]
  },
  {
   "cell_type": "code",
   "execution_count": null,
   "metadata": {
    "executionInfo": {
     "elapsed": 3583,
     "status": "ok",
     "timestamp": 1680544951289,
     "user": {
      "displayName": "Vinicius Rogério da Silva",
      "userId": "17284938035144075977"
     },
     "user_tz": 180
    },
    "id": "Bctvfm-HW1a0"
   },
   "outputs": [],
   "source": [
    "# Function to clean the texts\n",
    "def get_full_text(data):\n",
    "\n",
    "  full_texts = []\n",
    "\n",
    "  for index, row in data.iterrows():\n",
    "    text = row.Title + ' ' + row.Abstract\n",
    "    text = text.lower()\n",
    "\n",
    "    # Removing linebreaks (and eventual \\n that persisted)\n",
    "    text = re.sub(r\"\\\\n\", \" \", text)\n",
    "    text = re.sub(r\"\\n\", \" \", text)\n",
    "\n",
    "    # Removing numbers, symbols, special characters and punctuation\n",
    "    text = re.sub(r\"[\\W\\d_]+\", \" \", text)\n",
    "\n",
    "    full_texts.append(text)\n",
    "\n",
    "  return full_texts\n",
    "\n",
    "full_texts = get_full_text(train_data)"
   ]
  },
  {
   "cell_type": "markdown",
   "metadata": {
    "id": "yj2njZzxaCsz"
   },
   "source": [
    "#### Removing Stopwords\n",
    "\n",
    "After cleaning the texts and also joining Title and Abstract, another step of preparation is removing stopwords. Stopwords, basically speaking, are words that might not give useful information about the text, and might introduce some \"noise\" in the whole process. Every language has it's own set of stopwords, but in american english some examples are \"a\", \"be\", \"but\", \"for\", \"how\", \"is\", \"in\", \"my\", \"or\"... and many others.\n",
    "\n",
    "To remove all the stopwords from the texts, I've taken advantage of the NLTK package, which has a standard set of stopwords. I've also appended the letter \"n\" to the set of stopwords, because many abstracts appeared to have this letter isolated in their content."
   ]
  },
  {
   "cell_type": "code",
   "execution_count": null,
   "metadata": {
    "colab": {
     "base_uri": "https://localhost:8080/"
    },
    "executionInfo": {
     "elapsed": 6784,
     "status": "ok",
     "timestamp": 1680544958059,
     "user": {
      "displayName": "Vinicius Rogério da Silva",
      "userId": "17284938035144075977"
     },
     "user_tz": 180
    },
    "id": "NjcU4_DmXr1h",
    "outputId": "a3c6b388-0759-4914-c431-0274d5ed3df0"
   },
   "outputs": [
    {
     "name": "stderr",
     "output_type": "stream",
     "text": [
      "[nltk_data] Downloading package stopwords to /root/nltk_data...\n",
      "[nltk_data]   Unzipping corpora/stopwords.zip.\n"
     ]
    }
   ],
   "source": [
    "nltk.download(\"stopwords\")\n",
    "\n",
    "# Function to remove stopwords\n",
    "def remove_stopwords(txts):\n",
    "  sw = stopwords.words(\"english\")\n",
    "  sw.append('n')\n",
    "\n",
    "  full_texts2 = []\n",
    "\n",
    "  for text in txts:\n",
    "    text = [word for word in text.split() if word not in sw]\n",
    "    text = \" \".join(text)\n",
    "    full_texts2.append(text)\n",
    "\n",
    "  return full_texts2\n",
    "\n",
    "full_texts2 = remove_stopwords(full_texts)"
   ]
  },
  {
   "cell_type": "code",
   "execution_count": 17,
   "metadata": {
    "colab": {
     "base_uri": "https://localhost:8080/"
    },
    "executionInfo": {
     "elapsed": 15,
     "status": "ok",
     "timestamp": 1680544958060,
     "user": {
      "displayName": "Vinicius Rogério da Silva",
      "userId": "17284938035144075977"
     },
     "user_tz": 180
    },
    "id": "f9tw67yca0u3",
    "outputId": "4605c623-77e7-4cbb-d644-876ba3692f6f"
   },
   "outputs": [
    {
     "data": {
      "text/plain": [
       "['neutrino ball model quasar suggested nonorthodox model quasar neutrino ball described terms standard model extended adding right handed neutrinos majorana scalar field presented order explain quasar body weak interacting neutrinos neutrino interaction scalar majorana field violates lepton number produces mass splitting neutrino due sea saw mechanism model quasar object appears result first order cosmological phase transition interpretation quasar may regarded ball filled dirac neutrinos treated remnant phase transition unbroken global lepton symmetry paper study macroscopic parameters configuration result mass radius curve r quasar obtained',\n",
       " 'charged boson stars vacuum instabilities consider charged boson stars study effect structure vacuum compact particle like stars constituent mass close planck mass pl e cal alpha pl argue limiting total electric charge z c primarily due formation pion condensate z c simeq alpha e alpha fine structure constant e electric charge positron charge star larger z c find numerical evidence complete screening indicating limiting charge compact object also less efficient competing charge screening mechanism due spontaneous electron positron pair creation case z c simeq alpha e astrophysical cosmological abundances charged compact boson stars briefly discussed terms dark matter',\n",
       " 'pre main sequence lithium burning weak tauri stars derive lithium abundances tauri stars tts concentrating weak line tts study gives following results luminosities ge l sun li abundances remarkably uniform mean value log li equal cosmic lithium abundance significant li depletion appears l sun mass range sun increases towards lower luminosities lower mass end sun observed luminosity li burning turning point factor higher predicted models masses sun observations imply less pms li burning theoretically expected moreover show low li abundances appear among stars low v sin fast rotators masses around sun show evidence strong li depletion towards lower luminosities slow rotators sample restricted k k stars find angular momentum spread li burning begins larger factor lithium depletion associated angular momentum loss pms evolution required explain observed abundances efficiency pms li burning mass range sun reduced presence rapid rotation']"
      ]
     },
     "execution_count": 17,
     "metadata": {},
     "output_type": "execute_result"
    }
   ],
   "source": [
    "full_texts2[0:3]"
   ]
  },
  {
   "cell_type": "markdown",
   "metadata": {
    "id": "UORt1dMwLETd"
   },
   "source": [
    "The above output gives us an idea of the resulting texts after the stopwords are removed."
   ]
  },
  {
   "cell_type": "markdown",
   "metadata": {
    "id": "-m7qI5BeeLBm"
   },
   "source": [
    "#### Lemmatization\n",
    "\n",
    "Another step of preprocessing text data in NLP is called lemmatization. It consists of transforming each word to its \"root\" form, called a lemma. For example: \n",
    "\n",
    "* lemmatize(\"giving\") = \"give\"\n",
    "* lemmatize(\"gave\") = \"give\"\n",
    "* lemmatize(\"gives\") = \"give\"\n",
    "* lemmatize(\"given\") = \"give\"\n",
    "\n",
    "and so on. All these words might mean different things in their own context, but for an NLP model they might carry the same information, and so should be treated as one single thing. This process commonly increases performance in the context of text classification. The spaCy package is being use to perform lemmatization, as the code below shows.\n"
   ]
  },
  {
   "cell_type": "code",
   "execution_count": 18,
   "metadata": {
    "executionInfo": {
     "elapsed": 269479,
     "status": "ok",
     "timestamp": 1680545227526,
     "user": {
      "displayName": "Vinicius Rogério da Silva",
      "userId": "17284938035144075977"
     },
     "user_tz": 180
    },
    "id": "v3ejXMhrcglp"
   },
   "outputs": [],
   "source": [
    "spc = spacy.load('en_core_web_sm', disable = ['parser','ner'])\n",
    "full_texts_final = []\n",
    "\n",
    "docs = [spc(txt) for txt in full_texts2]\n",
    "\n",
    "full_texts_final = [str(x) for x in docs]"
   ]
  },
  {
   "cell_type": "markdown",
   "metadata": {
    "id": "bFI3E48gRPfk"
   },
   "source": [
    "#### Feature Extraction\n",
    "\n",
    "Once we have our text clean, with no stopwords and lemmatized, we now must transform it in a way that can be understood by the algorithms. This process is known as Feature Extraction, and many different methods can be applied to transform text into numeric vectors that will serve as an input to the models.\n",
    "\n",
    "One of the most common techniques is the BagOfWords (BoW), where words are represented by how many times they occur, or by 1's and 0's indicating whether they occur or not (binary approach). The problem with this technique is it doesn't take into account the relevance of that word in the context of the given texts.\n",
    "\n",
    "To overcome that issue, another well-known technique is TF-IDF, which stands for Term Frequency - Inverse Document Frequency. The Term Frequency, as the name suggests, measures the frequency of occurrence of the word in the document, while the Inverse Document Frequency measures how \"rare\" a word is in the whole set of documents (in our case, all titles + subjects). By doing that, TF-IDF gives a weight to each word, that represents how important that word is in the context.\n",
    "\n",
    "For these reasons, TF-IDF is the technique that has been chose here."
   ]
  },
  {
   "cell_type": "code",
   "execution_count": 19,
   "metadata": {
    "executionInfo": {
     "elapsed": 4249,
     "status": "ok",
     "timestamp": 1680545231757,
     "user": {
      "displayName": "Vinicius Rogério da Silva",
      "userId": "17284938035144075977"
     },
     "user_tz": 180
    },
    "id": "pDD_Ak0Ks5Mu"
   },
   "outputs": [],
   "source": [
    "vector = TfidfVectorizer(max_features=19000)\n",
    "X = vector.fit_transform(full_texts_final)"
   ]
  },
  {
   "cell_type": "markdown",
   "metadata": {
    "id": "pMFceFVWYLPA"
   },
   "source": [
    "The max number of features has been set to 19000 because there are about 19K different words on the test set (that is the size of the vocabulary). So I've set this value for the train data as well, since the vector of features of both train and test data must have the same number of columns."
   ]
  },
  {
   "cell_type": "code",
   "execution_count": 20,
   "metadata": {
    "colab": {
     "base_uri": "https://localhost:8080/"
    },
    "executionInfo": {
     "elapsed": 16,
     "status": "ok",
     "timestamp": 1680545231757,
     "user": {
      "displayName": "Vinicius Rogério da Silva",
      "userId": "17284938035144075977"
     },
     "user_tz": 180
    },
    "id": "_q9ndyLMtSxE",
    "outputId": "c121a40c-5357-4216-a1f3-68cbc37f2241"
   },
   "outputs": [
    {
     "name": "stdout",
     "output_type": "stream",
     "text": [
      "<class 'scipy.sparse._csr.csr_matrix'>\n",
      "(29191, 19000)\n"
     ]
    }
   ],
   "source": [
    "print(type(X))\n",
    "print(X.get_shape())"
   ]
  },
  {
   "cell_type": "code",
   "execution_count": 21,
   "metadata": {
    "colab": {
     "base_uri": "https://localhost:8080/",
     "height": 423
    },
    "executionInfo": {
     "elapsed": 2412,
     "status": "ok",
     "timestamp": 1680545234154,
     "user": {
      "displayName": "Vinicius Rogério da Silva",
      "userId": "17284938035144075977"
     },
     "user_tz": 180
    },
    "id": "JRUe0Dqkur7r",
    "outputId": "ff5ccad2-cb64-45eb-d8fb-68851db20cab"
   },
   "outputs": [
    {
     "data": {
      "text/html": [
       "\n",
       "  <div id=\"df-55dd8e3a-4f89-4934-996c-8a28a9146a67\">\n",
       "    <div class=\"colab-df-container\">\n",
       "      <div>\n",
       "<style scoped>\n",
       "    .dataframe tbody tr th:only-of-type {\n",
       "        vertical-align: middle;\n",
       "    }\n",
       "\n",
       "    .dataframe tbody tr th {\n",
       "        vertical-align: top;\n",
       "    }\n",
       "\n",
       "    .dataframe thead th {\n",
       "        text-align: right;\n",
       "    }\n",
       "</style>\n",
       "<table border=\"1\" class=\"dataframe\">\n",
       "  <thead>\n",
       "    <tr style=\"text-align: right;\">\n",
       "      <th></th>\n",
       "      <th>0</th>\n",
       "      <th>1</th>\n",
       "      <th>2</th>\n",
       "      <th>3</th>\n",
       "      <th>4</th>\n",
       "      <th>5</th>\n",
       "      <th>6</th>\n",
       "      <th>7</th>\n",
       "      <th>8</th>\n",
       "      <th>9</th>\n",
       "      <th>...</th>\n",
       "      <th>18990</th>\n",
       "      <th>18991</th>\n",
       "      <th>18992</th>\n",
       "      <th>18993</th>\n",
       "      <th>18994</th>\n",
       "      <th>18995</th>\n",
       "      <th>18996</th>\n",
       "      <th>18997</th>\n",
       "      <th>18998</th>\n",
       "      <th>18999</th>\n",
       "    </tr>\n",
       "  </thead>\n",
       "  <tbody>\n",
       "    <tr>\n",
       "      <th>0</th>\n",
       "      <td>0.0</td>\n",
       "      <td>0.0</td>\n",
       "      <td>0.0</td>\n",
       "      <td>0.0</td>\n",
       "      <td>0.0</td>\n",
       "      <td>0.0</td>\n",
       "      <td>0.0</td>\n",
       "      <td>0.0</td>\n",
       "      <td>0.0</td>\n",
       "      <td>0.0</td>\n",
       "      <td>...</td>\n",
       "      <td>0.0</td>\n",
       "      <td>0.0</td>\n",
       "      <td>0.0</td>\n",
       "      <td>0.0</td>\n",
       "      <td>0.0</td>\n",
       "      <td>0.0</td>\n",
       "      <td>0.0</td>\n",
       "      <td>0.0</td>\n",
       "      <td>0.0</td>\n",
       "      <td>0.0</td>\n",
       "    </tr>\n",
       "    <tr>\n",
       "      <th>1</th>\n",
       "      <td>0.0</td>\n",
       "      <td>0.0</td>\n",
       "      <td>0.0</td>\n",
       "      <td>0.0</td>\n",
       "      <td>0.0</td>\n",
       "      <td>0.0</td>\n",
       "      <td>0.0</td>\n",
       "      <td>0.0</td>\n",
       "      <td>0.0</td>\n",
       "      <td>0.0</td>\n",
       "      <td>...</td>\n",
       "      <td>0.0</td>\n",
       "      <td>0.0</td>\n",
       "      <td>0.0</td>\n",
       "      <td>0.0</td>\n",
       "      <td>0.0</td>\n",
       "      <td>0.0</td>\n",
       "      <td>0.0</td>\n",
       "      <td>0.0</td>\n",
       "      <td>0.0</td>\n",
       "      <td>0.0</td>\n",
       "    </tr>\n",
       "    <tr>\n",
       "      <th>2</th>\n",
       "      <td>0.0</td>\n",
       "      <td>0.0</td>\n",
       "      <td>0.0</td>\n",
       "      <td>0.0</td>\n",
       "      <td>0.0</td>\n",
       "      <td>0.0</td>\n",
       "      <td>0.0</td>\n",
       "      <td>0.0</td>\n",
       "      <td>0.0</td>\n",
       "      <td>0.0</td>\n",
       "      <td>...</td>\n",
       "      <td>0.0</td>\n",
       "      <td>0.0</td>\n",
       "      <td>0.0</td>\n",
       "      <td>0.0</td>\n",
       "      <td>0.0</td>\n",
       "      <td>0.0</td>\n",
       "      <td>0.0</td>\n",
       "      <td>0.0</td>\n",
       "      <td>0.0</td>\n",
       "      <td>0.0</td>\n",
       "    </tr>\n",
       "    <tr>\n",
       "      <th>3</th>\n",
       "      <td>0.0</td>\n",
       "      <td>0.0</td>\n",
       "      <td>0.0</td>\n",
       "      <td>0.0</td>\n",
       "      <td>0.0</td>\n",
       "      <td>0.0</td>\n",
       "      <td>0.0</td>\n",
       "      <td>0.0</td>\n",
       "      <td>0.0</td>\n",
       "      <td>0.0</td>\n",
       "      <td>...</td>\n",
       "      <td>0.0</td>\n",
       "      <td>0.0</td>\n",
       "      <td>0.0</td>\n",
       "      <td>0.0</td>\n",
       "      <td>0.0</td>\n",
       "      <td>0.0</td>\n",
       "      <td>0.0</td>\n",
       "      <td>0.0</td>\n",
       "      <td>0.0</td>\n",
       "      <td>0.0</td>\n",
       "    </tr>\n",
       "    <tr>\n",
       "      <th>4</th>\n",
       "      <td>0.0</td>\n",
       "      <td>0.0</td>\n",
       "      <td>0.0</td>\n",
       "      <td>0.0</td>\n",
       "      <td>0.0</td>\n",
       "      <td>0.0</td>\n",
       "      <td>0.0</td>\n",
       "      <td>0.0</td>\n",
       "      <td>0.0</td>\n",
       "      <td>0.0</td>\n",
       "      <td>...</td>\n",
       "      <td>0.0</td>\n",
       "      <td>0.0</td>\n",
       "      <td>0.0</td>\n",
       "      <td>0.0</td>\n",
       "      <td>0.0</td>\n",
       "      <td>0.0</td>\n",
       "      <td>0.0</td>\n",
       "      <td>0.0</td>\n",
       "      <td>0.0</td>\n",
       "      <td>0.0</td>\n",
       "    </tr>\n",
       "    <tr>\n",
       "      <th>...</th>\n",
       "      <td>...</td>\n",
       "      <td>...</td>\n",
       "      <td>...</td>\n",
       "      <td>...</td>\n",
       "      <td>...</td>\n",
       "      <td>...</td>\n",
       "      <td>...</td>\n",
       "      <td>...</td>\n",
       "      <td>...</td>\n",
       "      <td>...</td>\n",
       "      <td>...</td>\n",
       "      <td>...</td>\n",
       "      <td>...</td>\n",
       "      <td>...</td>\n",
       "      <td>...</td>\n",
       "      <td>...</td>\n",
       "      <td>...</td>\n",
       "      <td>...</td>\n",
       "      <td>...</td>\n",
       "      <td>...</td>\n",
       "      <td>...</td>\n",
       "    </tr>\n",
       "    <tr>\n",
       "      <th>29186</th>\n",
       "      <td>0.0</td>\n",
       "      <td>0.0</td>\n",
       "      <td>0.0</td>\n",
       "      <td>0.0</td>\n",
       "      <td>0.0</td>\n",
       "      <td>0.0</td>\n",
       "      <td>0.0</td>\n",
       "      <td>0.0</td>\n",
       "      <td>0.0</td>\n",
       "      <td>0.0</td>\n",
       "      <td>...</td>\n",
       "      <td>0.0</td>\n",
       "      <td>0.0</td>\n",
       "      <td>0.0</td>\n",
       "      <td>0.0</td>\n",
       "      <td>0.0</td>\n",
       "      <td>0.0</td>\n",
       "      <td>0.0</td>\n",
       "      <td>0.0</td>\n",
       "      <td>0.0</td>\n",
       "      <td>0.0</td>\n",
       "    </tr>\n",
       "    <tr>\n",
       "      <th>29187</th>\n",
       "      <td>0.0</td>\n",
       "      <td>0.0</td>\n",
       "      <td>0.0</td>\n",
       "      <td>0.0</td>\n",
       "      <td>0.0</td>\n",
       "      <td>0.0</td>\n",
       "      <td>0.0</td>\n",
       "      <td>0.0</td>\n",
       "      <td>0.0</td>\n",
       "      <td>0.0</td>\n",
       "      <td>...</td>\n",
       "      <td>0.0</td>\n",
       "      <td>0.0</td>\n",
       "      <td>0.0</td>\n",
       "      <td>0.0</td>\n",
       "      <td>0.0</td>\n",
       "      <td>0.0</td>\n",
       "      <td>0.0</td>\n",
       "      <td>0.0</td>\n",
       "      <td>0.0</td>\n",
       "      <td>0.0</td>\n",
       "    </tr>\n",
       "    <tr>\n",
       "      <th>29188</th>\n",
       "      <td>0.0</td>\n",
       "      <td>0.0</td>\n",
       "      <td>0.0</td>\n",
       "      <td>0.0</td>\n",
       "      <td>0.0</td>\n",
       "      <td>0.0</td>\n",
       "      <td>0.0</td>\n",
       "      <td>0.0</td>\n",
       "      <td>0.0</td>\n",
       "      <td>0.0</td>\n",
       "      <td>...</td>\n",
       "      <td>0.0</td>\n",
       "      <td>0.0</td>\n",
       "      <td>0.0</td>\n",
       "      <td>0.0</td>\n",
       "      <td>0.0</td>\n",
       "      <td>0.0</td>\n",
       "      <td>0.0</td>\n",
       "      <td>0.0</td>\n",
       "      <td>0.0</td>\n",
       "      <td>0.0</td>\n",
       "    </tr>\n",
       "    <tr>\n",
       "      <th>29189</th>\n",
       "      <td>0.0</td>\n",
       "      <td>0.0</td>\n",
       "      <td>0.0</td>\n",
       "      <td>0.0</td>\n",
       "      <td>0.0</td>\n",
       "      <td>0.0</td>\n",
       "      <td>0.0</td>\n",
       "      <td>0.0</td>\n",
       "      <td>0.0</td>\n",
       "      <td>0.0</td>\n",
       "      <td>...</td>\n",
       "      <td>0.0</td>\n",
       "      <td>0.0</td>\n",
       "      <td>0.0</td>\n",
       "      <td>0.0</td>\n",
       "      <td>0.0</td>\n",
       "      <td>0.0</td>\n",
       "      <td>0.0</td>\n",
       "      <td>0.0</td>\n",
       "      <td>0.0</td>\n",
       "      <td>0.0</td>\n",
       "    </tr>\n",
       "    <tr>\n",
       "      <th>29190</th>\n",
       "      <td>0.0</td>\n",
       "      <td>0.0</td>\n",
       "      <td>0.0</td>\n",
       "      <td>0.0</td>\n",
       "      <td>0.0</td>\n",
       "      <td>0.0</td>\n",
       "      <td>0.0</td>\n",
       "      <td>0.0</td>\n",
       "      <td>0.0</td>\n",
       "      <td>0.0</td>\n",
       "      <td>...</td>\n",
       "      <td>0.0</td>\n",
       "      <td>0.0</td>\n",
       "      <td>0.0</td>\n",
       "      <td>0.0</td>\n",
       "      <td>0.0</td>\n",
       "      <td>0.0</td>\n",
       "      <td>0.0</td>\n",
       "      <td>0.0</td>\n",
       "      <td>0.0</td>\n",
       "      <td>0.0</td>\n",
       "    </tr>\n",
       "  </tbody>\n",
       "</table>\n",
       "<p>29191 rows × 19000 columns</p>\n",
       "</div>\n",
       "      <button class=\"colab-df-convert\" onclick=\"convertToInteractive('df-55dd8e3a-4f89-4934-996c-8a28a9146a67')\"\n",
       "              title=\"Convert this dataframe to an interactive table.\"\n",
       "              style=\"display:none;\">\n",
       "        \n",
       "  <svg xmlns=\"http://www.w3.org/2000/svg\" height=\"24px\"viewBox=\"0 0 24 24\"\n",
       "       width=\"24px\">\n",
       "    <path d=\"M0 0h24v24H0V0z\" fill=\"none\"/>\n",
       "    <path d=\"M18.56 5.44l.94 2.06.94-2.06 2.06-.94-2.06-.94-.94-2.06-.94 2.06-2.06.94zm-11 1L8.5 8.5l.94-2.06 2.06-.94-2.06-.94L8.5 2.5l-.94 2.06-2.06.94zm10 10l.94 2.06.94-2.06 2.06-.94-2.06-.94-.94-2.06-.94 2.06-2.06.94z\"/><path d=\"M17.41 7.96l-1.37-1.37c-.4-.4-.92-.59-1.43-.59-.52 0-1.04.2-1.43.59L10.3 9.45l-7.72 7.72c-.78.78-.78 2.05 0 2.83L4 21.41c.39.39.9.59 1.41.59.51 0 1.02-.2 1.41-.59l7.78-7.78 2.81-2.81c.8-.78.8-2.07 0-2.86zM5.41 20L4 18.59l7.72-7.72 1.47 1.35L5.41 20z\"/>\n",
       "  </svg>\n",
       "      </button>\n",
       "      \n",
       "  <style>\n",
       "    .colab-df-container {\n",
       "      display:flex;\n",
       "      flex-wrap:wrap;\n",
       "      gap: 12px;\n",
       "    }\n",
       "\n",
       "    .colab-df-convert {\n",
       "      background-color: #E8F0FE;\n",
       "      border: none;\n",
       "      border-radius: 50%;\n",
       "      cursor: pointer;\n",
       "      display: none;\n",
       "      fill: #1967D2;\n",
       "      height: 32px;\n",
       "      padding: 0 0 0 0;\n",
       "      width: 32px;\n",
       "    }\n",
       "\n",
       "    .colab-df-convert:hover {\n",
       "      background-color: #E2EBFA;\n",
       "      box-shadow: 0px 1px 2px rgba(60, 64, 67, 0.3), 0px 1px 3px 1px rgba(60, 64, 67, 0.15);\n",
       "      fill: #174EA6;\n",
       "    }\n",
       "\n",
       "    [theme=dark] .colab-df-convert {\n",
       "      background-color: #3B4455;\n",
       "      fill: #D2E3FC;\n",
       "    }\n",
       "\n",
       "    [theme=dark] .colab-df-convert:hover {\n",
       "      background-color: #434B5C;\n",
       "      box-shadow: 0px 1px 3px 1px rgba(0, 0, 0, 0.15);\n",
       "      filter: drop-shadow(0px 1px 2px rgba(0, 0, 0, 0.3));\n",
       "      fill: #FFFFFF;\n",
       "    }\n",
       "  </style>\n",
       "\n",
       "      <script>\n",
       "        const buttonEl =\n",
       "          document.querySelector('#df-55dd8e3a-4f89-4934-996c-8a28a9146a67 button.colab-df-convert');\n",
       "        buttonEl.style.display =\n",
       "          google.colab.kernel.accessAllowed ? 'block' : 'none';\n",
       "\n",
       "        async function convertToInteractive(key) {\n",
       "          const element = document.querySelector('#df-55dd8e3a-4f89-4934-996c-8a28a9146a67');\n",
       "          const dataTable =\n",
       "            await google.colab.kernel.invokeFunction('convertToInteractive',\n",
       "                                                     [key], {});\n",
       "          if (!dataTable) return;\n",
       "\n",
       "          const docLinkHtml = 'Like what you see? Visit the ' +\n",
       "            '<a target=\"_blank\" href=https://colab.research.google.com/notebooks/data_table.ipynb>data table notebook</a>'\n",
       "            + ' to learn more about interactive tables.';\n",
       "          element.innerHTML = '';\n",
       "          dataTable['output_type'] = 'display_data';\n",
       "          await google.colab.output.renderOutput(dataTable, element);\n",
       "          const docLink = document.createElement('div');\n",
       "          docLink.innerHTML = docLinkHtml;\n",
       "          element.appendChild(docLink);\n",
       "        }\n",
       "      </script>\n",
       "    </div>\n",
       "  </div>\n",
       "  "
      ],
      "text/plain": [
       "       0      1      2      3      4      5      6      7      8      9      \\\n",
       "0        0.0    0.0    0.0    0.0    0.0    0.0    0.0    0.0    0.0    0.0   \n",
       "1        0.0    0.0    0.0    0.0    0.0    0.0    0.0    0.0    0.0    0.0   \n",
       "2        0.0    0.0    0.0    0.0    0.0    0.0    0.0    0.0    0.0    0.0   \n",
       "3        0.0    0.0    0.0    0.0    0.0    0.0    0.0    0.0    0.0    0.0   \n",
       "4        0.0    0.0    0.0    0.0    0.0    0.0    0.0    0.0    0.0    0.0   \n",
       "...      ...    ...    ...    ...    ...    ...    ...    ...    ...    ...   \n",
       "29186    0.0    0.0    0.0    0.0    0.0    0.0    0.0    0.0    0.0    0.0   \n",
       "29187    0.0    0.0    0.0    0.0    0.0    0.0    0.0    0.0    0.0    0.0   \n",
       "29188    0.0    0.0    0.0    0.0    0.0    0.0    0.0    0.0    0.0    0.0   \n",
       "29189    0.0    0.0    0.0    0.0    0.0    0.0    0.0    0.0    0.0    0.0   \n",
       "29190    0.0    0.0    0.0    0.0    0.0    0.0    0.0    0.0    0.0    0.0   \n",
       "\n",
       "       ...  18990  18991  18992  18993  18994  18995  18996  18997  18998  \\\n",
       "0      ...    0.0    0.0    0.0    0.0    0.0    0.0    0.0    0.0    0.0   \n",
       "1      ...    0.0    0.0    0.0    0.0    0.0    0.0    0.0    0.0    0.0   \n",
       "2      ...    0.0    0.0    0.0    0.0    0.0    0.0    0.0    0.0    0.0   \n",
       "3      ...    0.0    0.0    0.0    0.0    0.0    0.0    0.0    0.0    0.0   \n",
       "4      ...    0.0    0.0    0.0    0.0    0.0    0.0    0.0    0.0    0.0   \n",
       "...    ...    ...    ...    ...    ...    ...    ...    ...    ...    ...   \n",
       "29186  ...    0.0    0.0    0.0    0.0    0.0    0.0    0.0    0.0    0.0   \n",
       "29187  ...    0.0    0.0    0.0    0.0    0.0    0.0    0.0    0.0    0.0   \n",
       "29188  ...    0.0    0.0    0.0    0.0    0.0    0.0    0.0    0.0    0.0   \n",
       "29189  ...    0.0    0.0    0.0    0.0    0.0    0.0    0.0    0.0    0.0   \n",
       "29190  ...    0.0    0.0    0.0    0.0    0.0    0.0    0.0    0.0    0.0   \n",
       "\n",
       "       18999  \n",
       "0        0.0  \n",
       "1        0.0  \n",
       "2        0.0  \n",
       "3        0.0  \n",
       "4        0.0  \n",
       "...      ...  \n",
       "29186    0.0  \n",
       "29187    0.0  \n",
       "29188    0.0  \n",
       "29189    0.0  \n",
       "29190    0.0  \n",
       "\n",
       "[29191 rows x 19000 columns]"
      ]
     },
     "execution_count": 21,
     "metadata": {},
     "output_type": "execute_result"
    }
   ],
   "source": [
    "pd.DataFrame(X.toarray())"
   ]
  },
  {
   "cell_type": "markdown",
   "metadata": {
    "id": "1iTjef5hY9co"
   },
   "source": [
    "This is how our final features look like: 19000 columns with weighted values for words (many of them will be 0)."
   ]
  },
  {
   "cell_type": "markdown",
   "metadata": {
    "id": "N1rR68G1dBuy"
   },
   "source": [
    "# Modeling"
   ]
  },
  {
   "cell_type": "markdown",
   "metadata": {
    "id": "RHk7Ck7ZdWDZ"
   },
   "source": [
    "In this section I'm going to adjust classification models for the given problem. I also give a quick explanation about the functioning of each model, but without going into the depths of maths and statistics behind them."
   ]
  },
  {
   "cell_type": "markdown",
   "metadata": {
    "id": "bbzukOCceOzJ"
   },
   "source": [
    "#### Transforming the target variable\n",
    "\n",
    "In the same way that we transformed our features, it's also needed to transform our target variable.\n",
    "\n",
    "As said before, this is a multilabel (multi-target) classification problem, since each article can be assigned to multiple subjects. That being said, since we have 111 possible articles, each of them will be represented by one target variable (y1,...,y111).\n",
    "\n",
    "The MultiLabelBinarizer have been used to perform that transformation:"
   ]
  },
  {
   "cell_type": "code",
   "execution_count": 22,
   "metadata": {
    "executionInfo": {
     "elapsed": 11,
     "status": "ok",
     "timestamp": 1680545234155,
     "user": {
      "displayName": "Vinicius Rogério da Silva",
      "userId": "17284938035144075977"
     },
     "user_tz": 180
    },
    "id": "u0N3tt_yK1Ci"
   },
   "outputs": [],
   "source": [
    "mlb = MultiLabelBinarizer()\n",
    "y = mlb.fit_transform(train_data.Subjects)"
   ]
  },
  {
   "cell_type": "code",
   "execution_count": 23,
   "metadata": {
    "colab": {
     "base_uri": "https://localhost:8080/",
     "height": 423
    },
    "executionInfo": {
     "elapsed": 11,
     "status": "ok",
     "timestamp": 1680545234155,
     "user": {
      "displayName": "Vinicius Rogério da Silva",
      "userId": "17284938035144075977"
     },
     "user_tz": 180
    },
    "id": "-IUWD3ONfY2i",
    "outputId": "60c1e7af-ba2c-49da-b12b-3475725c3ceb"
   },
   "outputs": [
    {
     "data": {
      "text/html": [
       "\n",
       "  <div id=\"df-bd9f4c06-f490-4702-a4e8-636567be3a8e\">\n",
       "    <div class=\"colab-df-container\">\n",
       "      <div>\n",
       "<style scoped>\n",
       "    .dataframe tbody tr th:only-of-type {\n",
       "        vertical-align: middle;\n",
       "    }\n",
       "\n",
       "    .dataframe tbody tr th {\n",
       "        vertical-align: top;\n",
       "    }\n",
       "\n",
       "    .dataframe thead th {\n",
       "        text-align: right;\n",
       "    }\n",
       "</style>\n",
       "<table border=\"1\" class=\"dataframe\">\n",
       "  <thead>\n",
       "    <tr style=\"text-align: right;\">\n",
       "      <th></th>\n",
       "      <th>0</th>\n",
       "      <th>1</th>\n",
       "      <th>2</th>\n",
       "      <th>3</th>\n",
       "      <th>4</th>\n",
       "      <th>5</th>\n",
       "      <th>6</th>\n",
       "      <th>7</th>\n",
       "      <th>8</th>\n",
       "      <th>9</th>\n",
       "      <th>...</th>\n",
       "      <th>101</th>\n",
       "      <th>102</th>\n",
       "      <th>103</th>\n",
       "      <th>104</th>\n",
       "      <th>105</th>\n",
       "      <th>106</th>\n",
       "      <th>107</th>\n",
       "      <th>108</th>\n",
       "      <th>109</th>\n",
       "      <th>110</th>\n",
       "    </tr>\n",
       "  </thead>\n",
       "  <tbody>\n",
       "    <tr>\n",
       "      <th>0</th>\n",
       "      <td>0</td>\n",
       "      <td>1</td>\n",
       "      <td>0</td>\n",
       "      <td>0</td>\n",
       "      <td>0</td>\n",
       "      <td>0</td>\n",
       "      <td>0</td>\n",
       "      <td>0</td>\n",
       "      <td>0</td>\n",
       "      <td>0</td>\n",
       "      <td>...</td>\n",
       "      <td>0</td>\n",
       "      <td>0</td>\n",
       "      <td>0</td>\n",
       "      <td>0</td>\n",
       "      <td>0</td>\n",
       "      <td>0</td>\n",
       "      <td>0</td>\n",
       "      <td>0</td>\n",
       "      <td>0</td>\n",
       "      <td>0</td>\n",
       "    </tr>\n",
       "    <tr>\n",
       "      <th>1</th>\n",
       "      <td>0</td>\n",
       "      <td>1</td>\n",
       "      <td>0</td>\n",
       "      <td>0</td>\n",
       "      <td>0</td>\n",
       "      <td>0</td>\n",
       "      <td>0</td>\n",
       "      <td>0</td>\n",
       "      <td>0</td>\n",
       "      <td>0</td>\n",
       "      <td>...</td>\n",
       "      <td>0</td>\n",
       "      <td>0</td>\n",
       "      <td>0</td>\n",
       "      <td>0</td>\n",
       "      <td>0</td>\n",
       "      <td>0</td>\n",
       "      <td>0</td>\n",
       "      <td>0</td>\n",
       "      <td>0</td>\n",
       "      <td>0</td>\n",
       "    </tr>\n",
       "    <tr>\n",
       "      <th>2</th>\n",
       "      <td>0</td>\n",
       "      <td>1</td>\n",
       "      <td>0</td>\n",
       "      <td>0</td>\n",
       "      <td>0</td>\n",
       "      <td>0</td>\n",
       "      <td>0</td>\n",
       "      <td>0</td>\n",
       "      <td>0</td>\n",
       "      <td>0</td>\n",
       "      <td>...</td>\n",
       "      <td>0</td>\n",
       "      <td>0</td>\n",
       "      <td>0</td>\n",
       "      <td>0</td>\n",
       "      <td>0</td>\n",
       "      <td>0</td>\n",
       "      <td>0</td>\n",
       "      <td>0</td>\n",
       "      <td>0</td>\n",
       "      <td>0</td>\n",
       "    </tr>\n",
       "    <tr>\n",
       "      <th>3</th>\n",
       "      <td>0</td>\n",
       "      <td>1</td>\n",
       "      <td>0</td>\n",
       "      <td>0</td>\n",
       "      <td>0</td>\n",
       "      <td>0</td>\n",
       "      <td>0</td>\n",
       "      <td>0</td>\n",
       "      <td>0</td>\n",
       "      <td>0</td>\n",
       "      <td>...</td>\n",
       "      <td>0</td>\n",
       "      <td>0</td>\n",
       "      <td>0</td>\n",
       "      <td>0</td>\n",
       "      <td>0</td>\n",
       "      <td>0</td>\n",
       "      <td>0</td>\n",
       "      <td>0</td>\n",
       "      <td>0</td>\n",
       "      <td>0</td>\n",
       "    </tr>\n",
       "    <tr>\n",
       "      <th>4</th>\n",
       "      <td>0</td>\n",
       "      <td>1</td>\n",
       "      <td>0</td>\n",
       "      <td>0</td>\n",
       "      <td>0</td>\n",
       "      <td>0</td>\n",
       "      <td>0</td>\n",
       "      <td>0</td>\n",
       "      <td>0</td>\n",
       "      <td>0</td>\n",
       "      <td>...</td>\n",
       "      <td>0</td>\n",
       "      <td>0</td>\n",
       "      <td>0</td>\n",
       "      <td>0</td>\n",
       "      <td>0</td>\n",
       "      <td>0</td>\n",
       "      <td>0</td>\n",
       "      <td>0</td>\n",
       "      <td>0</td>\n",
       "      <td>0</td>\n",
       "    </tr>\n",
       "    <tr>\n",
       "      <th>...</th>\n",
       "      <td>...</td>\n",
       "      <td>...</td>\n",
       "      <td>...</td>\n",
       "      <td>...</td>\n",
       "      <td>...</td>\n",
       "      <td>...</td>\n",
       "      <td>...</td>\n",
       "      <td>...</td>\n",
       "      <td>...</td>\n",
       "      <td>...</td>\n",
       "      <td>...</td>\n",
       "      <td>...</td>\n",
       "      <td>...</td>\n",
       "      <td>...</td>\n",
       "      <td>...</td>\n",
       "      <td>...</td>\n",
       "      <td>...</td>\n",
       "      <td>...</td>\n",
       "      <td>...</td>\n",
       "      <td>...</td>\n",
       "      <td>...</td>\n",
       "    </tr>\n",
       "    <tr>\n",
       "      <th>29186</th>\n",
       "      <td>0</td>\n",
       "      <td>0</td>\n",
       "      <td>0</td>\n",
       "      <td>0</td>\n",
       "      <td>0</td>\n",
       "      <td>1</td>\n",
       "      <td>0</td>\n",
       "      <td>0</td>\n",
       "      <td>0</td>\n",
       "      <td>0</td>\n",
       "      <td>...</td>\n",
       "      <td>0</td>\n",
       "      <td>0</td>\n",
       "      <td>0</td>\n",
       "      <td>0</td>\n",
       "      <td>1</td>\n",
       "      <td>0</td>\n",
       "      <td>0</td>\n",
       "      <td>0</td>\n",
       "      <td>0</td>\n",
       "      <td>0</td>\n",
       "    </tr>\n",
       "    <tr>\n",
       "      <th>29187</th>\n",
       "      <td>0</td>\n",
       "      <td>0</td>\n",
       "      <td>0</td>\n",
       "      <td>1</td>\n",
       "      <td>0</td>\n",
       "      <td>0</td>\n",
       "      <td>0</td>\n",
       "      <td>0</td>\n",
       "      <td>0</td>\n",
       "      <td>0</td>\n",
       "      <td>...</td>\n",
       "      <td>0</td>\n",
       "      <td>0</td>\n",
       "      <td>0</td>\n",
       "      <td>0</td>\n",
       "      <td>0</td>\n",
       "      <td>0</td>\n",
       "      <td>0</td>\n",
       "      <td>0</td>\n",
       "      <td>0</td>\n",
       "      <td>0</td>\n",
       "    </tr>\n",
       "    <tr>\n",
       "      <th>29188</th>\n",
       "      <td>0</td>\n",
       "      <td>0</td>\n",
       "      <td>1</td>\n",
       "      <td>0</td>\n",
       "      <td>0</td>\n",
       "      <td>1</td>\n",
       "      <td>0</td>\n",
       "      <td>0</td>\n",
       "      <td>0</td>\n",
       "      <td>0</td>\n",
       "      <td>...</td>\n",
       "      <td>0</td>\n",
       "      <td>0</td>\n",
       "      <td>0</td>\n",
       "      <td>0</td>\n",
       "      <td>0</td>\n",
       "      <td>0</td>\n",
       "      <td>0</td>\n",
       "      <td>0</td>\n",
       "      <td>0</td>\n",
       "      <td>0</td>\n",
       "    </tr>\n",
       "    <tr>\n",
       "      <th>29189</th>\n",
       "      <td>0</td>\n",
       "      <td>0</td>\n",
       "      <td>1</td>\n",
       "      <td>0</td>\n",
       "      <td>0</td>\n",
       "      <td>0</td>\n",
       "      <td>0</td>\n",
       "      <td>0</td>\n",
       "      <td>0</td>\n",
       "      <td>0</td>\n",
       "      <td>...</td>\n",
       "      <td>0</td>\n",
       "      <td>0</td>\n",
       "      <td>0</td>\n",
       "      <td>0</td>\n",
       "      <td>0</td>\n",
       "      <td>0</td>\n",
       "      <td>0</td>\n",
       "      <td>0</td>\n",
       "      <td>0</td>\n",
       "      <td>0</td>\n",
       "    </tr>\n",
       "    <tr>\n",
       "      <th>29190</th>\n",
       "      <td>0</td>\n",
       "      <td>0</td>\n",
       "      <td>0</td>\n",
       "      <td>0</td>\n",
       "      <td>1</td>\n",
       "      <td>0</td>\n",
       "      <td>0</td>\n",
       "      <td>0</td>\n",
       "      <td>0</td>\n",
       "      <td>0</td>\n",
       "      <td>...</td>\n",
       "      <td>0</td>\n",
       "      <td>0</td>\n",
       "      <td>0</td>\n",
       "      <td>0</td>\n",
       "      <td>0</td>\n",
       "      <td>0</td>\n",
       "      <td>0</td>\n",
       "      <td>0</td>\n",
       "      <td>0</td>\n",
       "      <td>0</td>\n",
       "    </tr>\n",
       "  </tbody>\n",
       "</table>\n",
       "<p>29191 rows × 111 columns</p>\n",
       "</div>\n",
       "      <button class=\"colab-df-convert\" onclick=\"convertToInteractive('df-bd9f4c06-f490-4702-a4e8-636567be3a8e')\"\n",
       "              title=\"Convert this dataframe to an interactive table.\"\n",
       "              style=\"display:none;\">\n",
       "        \n",
       "  <svg xmlns=\"http://www.w3.org/2000/svg\" height=\"24px\"viewBox=\"0 0 24 24\"\n",
       "       width=\"24px\">\n",
       "    <path d=\"M0 0h24v24H0V0z\" fill=\"none\"/>\n",
       "    <path d=\"M18.56 5.44l.94 2.06.94-2.06 2.06-.94-2.06-.94-.94-2.06-.94 2.06-2.06.94zm-11 1L8.5 8.5l.94-2.06 2.06-.94-2.06-.94L8.5 2.5l-.94 2.06-2.06.94zm10 10l.94 2.06.94-2.06 2.06-.94-2.06-.94-.94-2.06-.94 2.06-2.06.94z\"/><path d=\"M17.41 7.96l-1.37-1.37c-.4-.4-.92-.59-1.43-.59-.52 0-1.04.2-1.43.59L10.3 9.45l-7.72 7.72c-.78.78-.78 2.05 0 2.83L4 21.41c.39.39.9.59 1.41.59.51 0 1.02-.2 1.41-.59l7.78-7.78 2.81-2.81c.8-.78.8-2.07 0-2.86zM5.41 20L4 18.59l7.72-7.72 1.47 1.35L5.41 20z\"/>\n",
       "  </svg>\n",
       "      </button>\n",
       "      \n",
       "  <style>\n",
       "    .colab-df-container {\n",
       "      display:flex;\n",
       "      flex-wrap:wrap;\n",
       "      gap: 12px;\n",
       "    }\n",
       "\n",
       "    .colab-df-convert {\n",
       "      background-color: #E8F0FE;\n",
       "      border: none;\n",
       "      border-radius: 50%;\n",
       "      cursor: pointer;\n",
       "      display: none;\n",
       "      fill: #1967D2;\n",
       "      height: 32px;\n",
       "      padding: 0 0 0 0;\n",
       "      width: 32px;\n",
       "    }\n",
       "\n",
       "    .colab-df-convert:hover {\n",
       "      background-color: #E2EBFA;\n",
       "      box-shadow: 0px 1px 2px rgba(60, 64, 67, 0.3), 0px 1px 3px 1px rgba(60, 64, 67, 0.15);\n",
       "      fill: #174EA6;\n",
       "    }\n",
       "\n",
       "    [theme=dark] .colab-df-convert {\n",
       "      background-color: #3B4455;\n",
       "      fill: #D2E3FC;\n",
       "    }\n",
       "\n",
       "    [theme=dark] .colab-df-convert:hover {\n",
       "      background-color: #434B5C;\n",
       "      box-shadow: 0px 1px 3px 1px rgba(0, 0, 0, 0.15);\n",
       "      filter: drop-shadow(0px 1px 2px rgba(0, 0, 0, 0.3));\n",
       "      fill: #FFFFFF;\n",
       "    }\n",
       "  </style>\n",
       "\n",
       "      <script>\n",
       "        const buttonEl =\n",
       "          document.querySelector('#df-bd9f4c06-f490-4702-a4e8-636567be3a8e button.colab-df-convert');\n",
       "        buttonEl.style.display =\n",
       "          google.colab.kernel.accessAllowed ? 'block' : 'none';\n",
       "\n",
       "        async function convertToInteractive(key) {\n",
       "          const element = document.querySelector('#df-bd9f4c06-f490-4702-a4e8-636567be3a8e');\n",
       "          const dataTable =\n",
       "            await google.colab.kernel.invokeFunction('convertToInteractive',\n",
       "                                                     [key], {});\n",
       "          if (!dataTable) return;\n",
       "\n",
       "          const docLinkHtml = 'Like what you see? Visit the ' +\n",
       "            '<a target=\"_blank\" href=https://colab.research.google.com/notebooks/data_table.ipynb>data table notebook</a>'\n",
       "            + ' to learn more about interactive tables.';\n",
       "          element.innerHTML = '';\n",
       "          dataTable['output_type'] = 'display_data';\n",
       "          await google.colab.output.renderOutput(dataTable, element);\n",
       "          const docLink = document.createElement('div');\n",
       "          docLink.innerHTML = docLinkHtml;\n",
       "          element.appendChild(docLink);\n",
       "        }\n",
       "      </script>\n",
       "    </div>\n",
       "  </div>\n",
       "  "
      ],
      "text/plain": [
       "       0    1    2    3    4    5    6    7    8    9    ...  101  102  103  \\\n",
       "0        0    1    0    0    0    0    0    0    0    0  ...    0    0    0   \n",
       "1        0    1    0    0    0    0    0    0    0    0  ...    0    0    0   \n",
       "2        0    1    0    0    0    0    0    0    0    0  ...    0    0    0   \n",
       "3        0    1    0    0    0    0    0    0    0    0  ...    0    0    0   \n",
       "4        0    1    0    0    0    0    0    0    0    0  ...    0    0    0   \n",
       "...    ...  ...  ...  ...  ...  ...  ...  ...  ...  ...  ...  ...  ...  ...   \n",
       "29186    0    0    0    0    0    1    0    0    0    0  ...    0    0    0   \n",
       "29187    0    0    0    1    0    0    0    0    0    0  ...    0    0    0   \n",
       "29188    0    0    1    0    0    1    0    0    0    0  ...    0    0    0   \n",
       "29189    0    0    1    0    0    0    0    0    0    0  ...    0    0    0   \n",
       "29190    0    0    0    0    1    0    0    0    0    0  ...    0    0    0   \n",
       "\n",
       "       104  105  106  107  108  109  110  \n",
       "0        0    0    0    0    0    0    0  \n",
       "1        0    0    0    0    0    0    0  \n",
       "2        0    0    0    0    0    0    0  \n",
       "3        0    0    0    0    0    0    0  \n",
       "4        0    0    0    0    0    0    0  \n",
       "...    ...  ...  ...  ...  ...  ...  ...  \n",
       "29186    0    1    0    0    0    0    0  \n",
       "29187    0    0    0    0    0    0    0  \n",
       "29188    0    0    0    0    0    0    0  \n",
       "29189    0    0    0    0    0    0    0  \n",
       "29190    0    0    0    0    0    0    0  \n",
       "\n",
       "[29191 rows x 111 columns]"
      ]
     },
     "execution_count": 23,
     "metadata": {},
     "output_type": "execute_result"
    }
   ],
   "source": [
    "pd.DataFrame(y)"
   ]
  },
  {
   "cell_type": "markdown",
   "metadata": {
    "id": "SzCQq7IYkMpi"
   },
   "source": [
    "Later on, these targets will be handled by classifiers that support multiple outputs."
   ]
  },
  {
   "cell_type": "markdown",
   "metadata": {
    "id": "E91Rj6PQ9GVk"
   },
   "source": [
    "#### Creating train and validation sets"
   ]
  },
  {
   "cell_type": "markdown",
   "metadata": {
    "id": "QWynA8NVgVZz"
   },
   "source": [
    "Since the test data has been provided separately and no labels have been included in it, I'll split the train data into train and validation subsets. This way of working is closer to a real life application, where our test data probably won't come labeled in most cases. So the performance of our models should be assessed in the validation set. A seed is also set for the sake of reproductability."
   ]
  },
  {
   "cell_type": "code",
   "execution_count": 24,
   "metadata": {
    "executionInfo": {
     "elapsed": 11,
     "status": "ok",
     "timestamp": 1680545234156,
     "user": {
      "displayName": "Vinicius Rogério da Silva",
      "userId": "17284938035144075977"
     },
     "user_tz": 180
    },
    "id": "3WslyI352E-p"
   },
   "outputs": [],
   "source": [
    "seed = 1\n",
    "X_train, X_eval, y_train, y_eval = train_test_split(X, y, test_size = 0.3,\n",
    "                                                    random_state = seed)"
   ]
  },
  {
   "cell_type": "markdown",
   "metadata": {
    "id": "LtKufXjmkiHE"
   },
   "source": [
    "### Description of the models\n",
    "\n",
    "#### Decision Trees\n",
    "\n",
    "Decision trees are widely used in the context of classification tasks. They consist of a top-down structure of nodes and leaves, where each node represents a logical test. After passing through all nodes, the result (leaf) is the target label assigned to the given observation.\n",
    "\n",
    "There are basically 3 main algorithms used to generate decision trees: ID3, CART and C4.5. The implementation found in scikit-learn is an adaptation of the CART algorithm.\n",
    "\n",
    "#### Random Forests\n",
    "\n",
    "Random Forests are, basically speaking, ensembles of decision trees. This means that they gather a large number of decision trees and combine their output to give a final classification. This process takes place in a way that each tree of the ensemble is trained on a random subset of the original features, so the given result is more reliable than the one given by a single tree.\n",
    "\n",
    "\n",
    "#### MLPClassifier\n",
    "\n",
    "The MLPClassifier is a classifier based on Multi-layer Perceptrons. The latter is a type of artificial neural network that have multiple hidden layers, and their architecture can be configured by the user, so the number of hidden layers and neurons on each layer will affect directly the outcome. The configuration used in the context of this challenge was a simple one.\n",
    "\n",
    "#### Use of MultiOutputClassifier\n",
    "\n",
    "The MultiOutputClassifier (MOC) is useful when we have a classifier that does not support multilabel tasks natively. Given a dataset containing multiple labels, the MOC will treat each one of them as a separate binary classification task, and then will be able to predict all the labels simultaneously.\n",
    "\n",
    "In this challenge, MOC have been used even for algorithms that suport multi-output natively, in order to facilitate the code implementation."
   ]
  },
  {
   "cell_type": "markdown",
   "metadata": {
    "id": "-N1aYkf-k9bH"
   },
   "source": [
    "### Evaluation Metrics\n",
    "\n",
    "In the context of classification tasks, some metrics are useful to measure how well the model is predicting for unseen data. Four of them are the most common ones:\n",
    "\n",
    "* Accuracy: measures the proportion of observations that have been correctly classified by the model in general;\n",
    "* Precision: proportion of the observations predicted positive that are actually positive. That is: how much our model is right when it states that one observation is from a certain class;\n",
    "* Recall: proportion of the observations that are positive in reality that were captured by the model as positive. That is: how \"sensible\" our model is to a certain given class;\n",
    "* F1-score: the harmonic mean between Precision and Recall.\n",
    "\n",
    "The accuracy itself might not always be the right metric to look at, as it doesn't take the difference between classes into consideration. That's why it's recommended to evaluate these other metrics as well."
   ]
  },
  {
   "cell_type": "markdown",
   "metadata": {
    "id": "6lcU-RyH-7JU"
   },
   "source": [
    "The function below has been defined to calculate the described metrics for each model."
   ]
  },
  {
   "cell_type": "code",
   "execution_count": 218,
   "metadata": {
    "executionInfo": {
     "elapsed": 391,
     "status": "ok",
     "timestamp": 1680555266371,
     "user": {
      "displayName": "Vinicius Rogério da Silva",
      "userId": "17284938035144075977"
     },
     "user_tz": 180
    },
    "id": "0nvpjuv7vlyd"
   },
   "outputs": [],
   "source": [
    "# Function to evaluate model metrics\n",
    "def evaluate(y_true, y_pred):\n",
    "  print(\"accuracy: \", round(accuracy_score(y_true, y_pred),4))\n",
    "  print(\"\\nprecision: \", round(precision_score(y_true, y_pred, average='weighted'),4))\n",
    "  print(\"\\nrecall: \", round(recall_score(y_true, y_pred, average='weighted'),4))\n",
    "  print(\"\\nf1-score: \", round(f1_score(y_true, y_pred, average='weighted'),4))"
   ]
  },
  {
   "cell_type": "markdown",
   "metadata": {
    "id": "adNQNJnvGGbt"
   },
   "source": [
    "### Fiting the models\n",
    "\n",
    "In this subsection, models are fitted using the techniques described earlier."
   ]
  },
  {
   "cell_type": "code",
   "execution_count": 26,
   "metadata": {
    "executionInfo": {
     "elapsed": 605214,
     "status": "ok",
     "timestamp": 1680545839360,
     "user": {
      "displayName": "Vinicius Rogério da Silva",
      "userId": "17284938035144075977"
     },
     "user_tz": 180
    },
    "id": "ySsFSiU9n7L8"
   },
   "outputs": [],
   "source": [
    "moc0 = MultiOutputClassifier(DecisionTreeClassifier(random_state = seed)).fit(X_train, y_train)"
   ]
  },
  {
   "cell_type": "code",
   "execution_count": 212,
   "metadata": {
    "executionInfo": {
     "elapsed": 615965,
     "status": "ok",
     "timestamp": 1680553268449,
     "user": {
      "displayName": "Vinicius Rogério da Silva",
      "userId": "17284938035144075977"
     },
     "user_tz": 180
    },
    "id": "MdjEsuFza4en"
   },
   "outputs": [],
   "source": [
    "moc1 = MultiOutputClassifier(RandomForestClassifier(n_estimators=100, random_state = seed)).fit(X_train, y_train)"
   ]
  },
  {
   "cell_type": "code",
   "execution_count": null,
   "metadata": {
    "id": "mHZKMWhffP69"
   },
   "outputs": [],
   "source": [
    "# moc2 = MultiOutputClassifier(LogisticRegression(max_iter=1000, random_state=seed)).fit(X_train, y_train)"
   ]
  },
  {
   "cell_type": "code",
   "execution_count": 213,
   "metadata": {
    "executionInfo": {
     "elapsed": 1736664,
     "status": "ok",
     "timestamp": 1680555005100,
     "user": {
      "displayName": "Vinicius Rogério da Silva",
      "userId": "17284938035144075977"
     },
     "user_tz": 180
    },
    "id": "j6I6GB3CXmX5"
   },
   "outputs": [],
   "source": [
    "moc3 = MultiOutputClassifier(MLPClassifier(hidden_layer_sizes=(8,8), random_state = seed)).fit(X_train, y_train)"
   ]
  },
  {
   "cell_type": "markdown",
   "metadata": {
    "id": "KolwYwCZLcGV"
   },
   "source": [
    "# Model Evaluation and Selection"
   ]
  },
  {
   "cell_type": "markdown",
   "metadata": {
    "id": "XK3kHdXpwYIM"
   },
   "source": [
    "### Computing metrics\n",
    "\n",
    "Now that we have adjusted our models, we can get their evaluation metrics."
   ]
  },
  {
   "cell_type": "code",
   "execution_count": 219,
   "metadata": {
    "executionInfo": {
     "elapsed": 37091,
     "status": "ok",
     "timestamp": 1680555310000,
     "user": {
      "displayName": "Vinicius Rogério da Silva",
      "userId": "17284938035144075977"
     },
     "user_tz": 180
    },
    "id": "2zPk-aZBwXdZ"
   },
   "outputs": [],
   "source": [
    "pred0 = moc0.predict(X_eval)\n",
    "pred1 = moc1.predict(X_eval)\n",
    "pred3 = moc3.predict(X_eval)"
   ]
  },
  {
   "cell_type": "code",
   "execution_count": 220,
   "metadata": {
    "colab": {
     "base_uri": "https://localhost:8080/"
    },
    "executionInfo": {
     "elapsed": 937,
     "status": "ok",
     "timestamp": 1680555366489,
     "user": {
      "displayName": "Vinicius Rogério da Silva",
      "userId": "17284938035144075977"
     },
     "user_tz": 180
    },
    "id": "xfUqUNW95FZx",
    "outputId": "c8f44aa7-7704-4dea-dc01-2dbd593dc964"
   },
   "outputs": [
    {
     "name": "stdout",
     "output_type": "stream",
     "text": [
      "Decision Tree: \n",
      "\n",
      "accuracy:  0.3021\n",
      "\n",
      "precision:  0.6172\n",
      "\n",
      "recall:  0.6135\n",
      "\n",
      "f1-score:  0.615\n",
      "\n",
      "Random Forest: \n",
      "\n",
      "accuracy:  0.4768\n",
      "\n",
      "precision:  0.8367\n",
      "\n",
      "recall:  0.5393\n",
      "\n",
      "f1-score:  0.6356\n",
      "\n",
      "MLPClassifier: \n",
      "\n",
      "accuracy:  0.4691\n",
      "\n",
      "precision:  0.7467\n",
      "\n",
      "recall:  0.6837\n",
      "\n",
      "f1-score:  0.7076\n"
     ]
    }
   ],
   "source": [
    "print(\"Decision Tree: \\n\")\n",
    "evaluate(y_eval,pred0)\n",
    "\n",
    "print(\"\\nRandom Forest: \\n\")\n",
    "evaluate(y_eval,pred1)\n",
    "\n",
    "print(\"\\nMLPClassifier: \\n\")\n",
    "evaluate(y_eval,pred3)"
   ]
  },
  {
   "cell_type": "markdown",
   "metadata": {
    "id": "VtJTCF6lxtAV"
   },
   "source": [
    "As we can see, the model that gives us the best estimated accuracy is the Random Forest, while the best estimated F1-Score is observed at the MLPClassifier.\n",
    "\n",
    "Taking this into account, MLPClassifier will be the selected model for predicting the labels on our Test Data, since F1-score gives a better balance between precision and recall."
   ]
  },
  {
   "cell_type": "markdown",
   "metadata": {
    "id": "XddVyFBALhqn"
   },
   "source": [
    "# Predicting for the Test Data"
   ]
  },
  {
   "cell_type": "markdown",
   "metadata": {
    "id": "PayOz9HqOW3v"
   },
   "source": [
    "\n",
    "### Preprocessing\n",
    "\n",
    "First of all, we need to read the test data and preprocess it, similarly to what has been done with the train data. All the steps are gonna be executed at once, since they have already been explained separately earlier."
   ]
  },
  {
   "cell_type": "code",
   "execution_count": 221,
   "metadata": {
    "executionInfo": {
     "elapsed": 78889,
     "status": "ok",
     "timestamp": 1680555577281,
     "user": {
      "displayName": "Vinicius Rogério da Silva",
      "userId": "17284938035144075977"
     },
     "user_tz": 180
    },
    "id": "axOlZ4bEfrxX"
   },
   "outputs": [],
   "source": [
    "# Reading test data\n",
    "test_data = pd.DataFrame(pd.read_csv(path+\"Test_Data.csv\"))\n",
    "\n",
    "# Cleaning and removing stopwords from test data\n",
    "test_full_texts = get_full_text(test_data)\n",
    "test_full_texts2 = remove_stopwords(test_full_texts)\n",
    "\n",
    "# Lemmatizing test data\n",
    "spc = spacy.load('en_core_web_sm', disable = ['parser','ner'])\n",
    "test_full_texts_final = []\n",
    "docs = [spc(txt) for txt in test_full_texts2]\n",
    "test_full_texts_final = [str(x) for x in docs]\n",
    "\n",
    "# Applying TF-IDF vectorization\n",
    "X_test = vector.fit_transform(test_full_texts_final)"
   ]
  },
  {
   "cell_type": "markdown",
   "metadata": {
    "id": "ZF4qNYFyOOPx"
   },
   "source": [
    "### Predicting"
   ]
  },
  {
   "cell_type": "markdown",
   "metadata": {
    "id": "L0Rwb0-_yVqN"
   },
   "source": [
    "Now we can use the selected model to make predictions based on the features contained in the test set."
   ]
  },
  {
   "cell_type": "code",
   "execution_count": 222,
   "metadata": {
    "executionInfo": {
     "elapsed": 2411,
     "status": "ok",
     "timestamp": 1680555617553,
     "user": {
      "displayName": "Vinicius Rogério da Silva",
      "userId": "17284938035144075977"
     },
     "user_tz": 180
    },
    "id": "QxK9vO2jOp1m"
   },
   "outputs": [],
   "source": [
    "pred_final = moc3.predict(X_test)"
   ]
  },
  {
   "cell_type": "code",
   "execution_count": 223,
   "metadata": {
    "executionInfo": {
     "elapsed": 563,
     "status": "ok",
     "timestamp": 1680555621648,
     "user": {
      "displayName": "Vinicius Rogério da Silva",
      "userId": "17284938035144075977"
     },
     "user_tz": 180
    },
    "id": "bkGIxLpxW6Di"
   },
   "outputs": [],
   "source": [
    "pred_final = pd.DataFrame(pred_final)"
   ]
  },
  {
   "cell_type": "code",
   "execution_count": 224,
   "metadata": {
    "executionInfo": {
     "elapsed": 427,
     "status": "ok",
     "timestamp": 1680555624235,
     "user": {
      "displayName": "Vinicius Rogério da Silva",
      "userId": "17284938035144075977"
     },
     "user_tz": 180
    },
    "id": "_iCgNhwyXNSH"
   },
   "outputs": [],
   "source": [
    "# Saving our final predictions\n",
    "pred_final.to_csv(\"pred_final.csv\")"
   ]
  },
  {
   "cell_type": "markdown",
   "metadata": {
    "id": "OU7UmE1sP_zX"
   },
   "source": [
    "### Summarizing data by subject and month\n",
    "\n",
    "Since the desired output is the count of Subjects by Month, I'm going to perform some transformations on the predicted dataset."
   ]
  },
  {
   "cell_type": "code",
   "execution_count": 232,
   "metadata": {
    "executionInfo": {
     "elapsed": 357,
     "status": "ok",
     "timestamp": 1680555696669,
     "user": {
      "displayName": "Vinicius Rogério da Silva",
      "userId": "17284938035144075977"
     },
     "user_tz": 180
    },
    "id": "eDAZXPPfXbMx"
   },
   "outputs": [],
   "source": [
    "# Reading predictions\n",
    "predicted = pd.read_csv(\"/content/pred_final.csv\")"
   ]
  },
  {
   "cell_type": "code",
   "execution_count": 233,
   "metadata": {
    "colab": {
     "base_uri": "https://localhost:8080/"
    },
    "executionInfo": {
     "elapsed": 4,
     "status": "ok",
     "timestamp": 1680555698452,
     "user": {
      "displayName": "Vinicius Rogério da Silva",
      "userId": "17284938035144075977"
     },
     "user_tz": 180
    },
    "id": "iSe8akaqYQN-",
    "outputId": "a3c882cd-7512-45db-d384-2bef4cf2f168"
   },
   "outputs": [
    {
     "name": "stdout",
     "output_type": "stream",
     "text": [
      "<class 'pandas.core.frame.DataFrame'>\n",
      "RangeIndex: 7370 entries, 0 to 7369\n",
      "Columns: 112 entries, Unnamed: 0 to 110\n",
      "dtypes: int64(112)\n",
      "memory usage: 6.3 MB\n"
     ]
    }
   ],
   "source": [
    "predicted.info()"
   ]
  },
  {
   "cell_type": "code",
   "execution_count": 234,
   "metadata": {
    "colab": {
     "base_uri": "https://localhost:8080/",
     "height": 235
    },
    "executionInfo": {
     "elapsed": 6,
     "status": "ok",
     "timestamp": 1680555700568,
     "user": {
      "displayName": "Vinicius Rogério da Silva",
      "userId": "17284938035144075977"
     },
     "user_tz": 180
    },
    "id": "4uictwMWYs0C",
    "outputId": "e568ccf9-e225-4387-c688-77668b932e39"
   },
   "outputs": [
    {
     "data": {
      "text/html": [
       "\n",
       "  <div id=\"df-a142575a-339a-408e-aae1-80f80b80d423\">\n",
       "    <div class=\"colab-df-container\">\n",
       "      <div>\n",
       "<style scoped>\n",
       "    .dataframe tbody tr th:only-of-type {\n",
       "        vertical-align: middle;\n",
       "    }\n",
       "\n",
       "    .dataframe tbody tr th {\n",
       "        vertical-align: top;\n",
       "    }\n",
       "\n",
       "    .dataframe thead th {\n",
       "        text-align: right;\n",
       "    }\n",
       "</style>\n",
       "<table border=\"1\" class=\"dataframe\">\n",
       "  <thead>\n",
       "    <tr style=\"text-align: right;\">\n",
       "      <th></th>\n",
       "      <th>Unnamed: 0</th>\n",
       "      <th>0</th>\n",
       "      <th>1</th>\n",
       "      <th>2</th>\n",
       "      <th>3</th>\n",
       "      <th>4</th>\n",
       "      <th>5</th>\n",
       "      <th>6</th>\n",
       "      <th>7</th>\n",
       "      <th>8</th>\n",
       "      <th>...</th>\n",
       "      <th>101</th>\n",
       "      <th>102</th>\n",
       "      <th>103</th>\n",
       "      <th>104</th>\n",
       "      <th>105</th>\n",
       "      <th>106</th>\n",
       "      <th>107</th>\n",
       "      <th>108</th>\n",
       "      <th>109</th>\n",
       "      <th>110</th>\n",
       "    </tr>\n",
       "  </thead>\n",
       "  <tbody>\n",
       "    <tr>\n",
       "      <th>0</th>\n",
       "      <td>0</td>\n",
       "      <td>0</td>\n",
       "      <td>0</td>\n",
       "      <td>0</td>\n",
       "      <td>0</td>\n",
       "      <td>0</td>\n",
       "      <td>0</td>\n",
       "      <td>0</td>\n",
       "      <td>0</td>\n",
       "      <td>0</td>\n",
       "      <td>...</td>\n",
       "      <td>0</td>\n",
       "      <td>0</td>\n",
       "      <td>0</td>\n",
       "      <td>0</td>\n",
       "      <td>0</td>\n",
       "      <td>0</td>\n",
       "      <td>0</td>\n",
       "      <td>0</td>\n",
       "      <td>0</td>\n",
       "      <td>0</td>\n",
       "    </tr>\n",
       "    <tr>\n",
       "      <th>1</th>\n",
       "      <td>1</td>\n",
       "      <td>0</td>\n",
       "      <td>0</td>\n",
       "      <td>0</td>\n",
       "      <td>0</td>\n",
       "      <td>0</td>\n",
       "      <td>0</td>\n",
       "      <td>1</td>\n",
       "      <td>0</td>\n",
       "      <td>0</td>\n",
       "      <td>...</td>\n",
       "      <td>0</td>\n",
       "      <td>0</td>\n",
       "      <td>0</td>\n",
       "      <td>0</td>\n",
       "      <td>0</td>\n",
       "      <td>0</td>\n",
       "      <td>0</td>\n",
       "      <td>0</td>\n",
       "      <td>0</td>\n",
       "      <td>0</td>\n",
       "    </tr>\n",
       "    <tr>\n",
       "      <th>2</th>\n",
       "      <td>2</td>\n",
       "      <td>0</td>\n",
       "      <td>0</td>\n",
       "      <td>0</td>\n",
       "      <td>0</td>\n",
       "      <td>0</td>\n",
       "      <td>0</td>\n",
       "      <td>0</td>\n",
       "      <td>0</td>\n",
       "      <td>0</td>\n",
       "      <td>...</td>\n",
       "      <td>0</td>\n",
       "      <td>0</td>\n",
       "      <td>0</td>\n",
       "      <td>0</td>\n",
       "      <td>0</td>\n",
       "      <td>0</td>\n",
       "      <td>0</td>\n",
       "      <td>0</td>\n",
       "      <td>0</td>\n",
       "      <td>0</td>\n",
       "    </tr>\n",
       "    <tr>\n",
       "      <th>3</th>\n",
       "      <td>3</td>\n",
       "      <td>0</td>\n",
       "      <td>0</td>\n",
       "      <td>0</td>\n",
       "      <td>0</td>\n",
       "      <td>0</td>\n",
       "      <td>0</td>\n",
       "      <td>0</td>\n",
       "      <td>0</td>\n",
       "      <td>0</td>\n",
       "      <td>...</td>\n",
       "      <td>0</td>\n",
       "      <td>0</td>\n",
       "      <td>0</td>\n",
       "      <td>0</td>\n",
       "      <td>0</td>\n",
       "      <td>0</td>\n",
       "      <td>0</td>\n",
       "      <td>0</td>\n",
       "      <td>0</td>\n",
       "      <td>0</td>\n",
       "    </tr>\n",
       "    <tr>\n",
       "      <th>4</th>\n",
       "      <td>4</td>\n",
       "      <td>0</td>\n",
       "      <td>0</td>\n",
       "      <td>0</td>\n",
       "      <td>0</td>\n",
       "      <td>0</td>\n",
       "      <td>0</td>\n",
       "      <td>0</td>\n",
       "      <td>0</td>\n",
       "      <td>0</td>\n",
       "      <td>...</td>\n",
       "      <td>0</td>\n",
       "      <td>0</td>\n",
       "      <td>0</td>\n",
       "      <td>0</td>\n",
       "      <td>0</td>\n",
       "      <td>0</td>\n",
       "      <td>0</td>\n",
       "      <td>0</td>\n",
       "      <td>0</td>\n",
       "      <td>0</td>\n",
       "    </tr>\n",
       "  </tbody>\n",
       "</table>\n",
       "<p>5 rows × 112 columns</p>\n",
       "</div>\n",
       "      <button class=\"colab-df-convert\" onclick=\"convertToInteractive('df-a142575a-339a-408e-aae1-80f80b80d423')\"\n",
       "              title=\"Convert this dataframe to an interactive table.\"\n",
       "              style=\"display:none;\">\n",
       "        \n",
       "  <svg xmlns=\"http://www.w3.org/2000/svg\" height=\"24px\"viewBox=\"0 0 24 24\"\n",
       "       width=\"24px\">\n",
       "    <path d=\"M0 0h24v24H0V0z\" fill=\"none\"/>\n",
       "    <path d=\"M18.56 5.44l.94 2.06.94-2.06 2.06-.94-2.06-.94-.94-2.06-.94 2.06-2.06.94zm-11 1L8.5 8.5l.94-2.06 2.06-.94-2.06-.94L8.5 2.5l-.94 2.06-2.06.94zm10 10l.94 2.06.94-2.06 2.06-.94-2.06-.94-.94-2.06-.94 2.06-2.06.94z\"/><path d=\"M17.41 7.96l-1.37-1.37c-.4-.4-.92-.59-1.43-.59-.52 0-1.04.2-1.43.59L10.3 9.45l-7.72 7.72c-.78.78-.78 2.05 0 2.83L4 21.41c.39.39.9.59 1.41.59.51 0 1.02-.2 1.41-.59l7.78-7.78 2.81-2.81c.8-.78.8-2.07 0-2.86zM5.41 20L4 18.59l7.72-7.72 1.47 1.35L5.41 20z\"/>\n",
       "  </svg>\n",
       "      </button>\n",
       "      \n",
       "  <style>\n",
       "    .colab-df-container {\n",
       "      display:flex;\n",
       "      flex-wrap:wrap;\n",
       "      gap: 12px;\n",
       "    }\n",
       "\n",
       "    .colab-df-convert {\n",
       "      background-color: #E8F0FE;\n",
       "      border: none;\n",
       "      border-radius: 50%;\n",
       "      cursor: pointer;\n",
       "      display: none;\n",
       "      fill: #1967D2;\n",
       "      height: 32px;\n",
       "      padding: 0 0 0 0;\n",
       "      width: 32px;\n",
       "    }\n",
       "\n",
       "    .colab-df-convert:hover {\n",
       "      background-color: #E2EBFA;\n",
       "      box-shadow: 0px 1px 2px rgba(60, 64, 67, 0.3), 0px 1px 3px 1px rgba(60, 64, 67, 0.15);\n",
       "      fill: #174EA6;\n",
       "    }\n",
       "\n",
       "    [theme=dark] .colab-df-convert {\n",
       "      background-color: #3B4455;\n",
       "      fill: #D2E3FC;\n",
       "    }\n",
       "\n",
       "    [theme=dark] .colab-df-convert:hover {\n",
       "      background-color: #434B5C;\n",
       "      box-shadow: 0px 1px 3px 1px rgba(0, 0, 0, 0.15);\n",
       "      filter: drop-shadow(0px 1px 2px rgba(0, 0, 0, 0.3));\n",
       "      fill: #FFFFFF;\n",
       "    }\n",
       "  </style>\n",
       "\n",
       "      <script>\n",
       "        const buttonEl =\n",
       "          document.querySelector('#df-a142575a-339a-408e-aae1-80f80b80d423 button.colab-df-convert');\n",
       "        buttonEl.style.display =\n",
       "          google.colab.kernel.accessAllowed ? 'block' : 'none';\n",
       "\n",
       "        async function convertToInteractive(key) {\n",
       "          const element = document.querySelector('#df-a142575a-339a-408e-aae1-80f80b80d423');\n",
       "          const dataTable =\n",
       "            await google.colab.kernel.invokeFunction('convertToInteractive',\n",
       "                                                     [key], {});\n",
       "          if (!dataTable) return;\n",
       "\n",
       "          const docLinkHtml = 'Like what you see? Visit the ' +\n",
       "            '<a target=\"_blank\" href=https://colab.research.google.com/notebooks/data_table.ipynb>data table notebook</a>'\n",
       "            + ' to learn more about interactive tables.';\n",
       "          element.innerHTML = '';\n",
       "          dataTable['output_type'] = 'display_data';\n",
       "          await google.colab.output.renderOutput(dataTable, element);\n",
       "          const docLink = document.createElement('div');\n",
       "          docLink.innerHTML = docLinkHtml;\n",
       "          element.appendChild(docLink);\n",
       "        }\n",
       "      </script>\n",
       "    </div>\n",
       "  </div>\n",
       "  "
      ],
      "text/plain": [
       "   Unnamed: 0  0  1  2  3  4  5  6  7  8  ...  101  102  103  104  105  106  \\\n",
       "0           0  0  0  0  0  0  0  0  0  0  ...    0    0    0    0    0    0   \n",
       "1           1  0  0  0  0  0  0  1  0  0  ...    0    0    0    0    0    0   \n",
       "2           2  0  0  0  0  0  0  0  0  0  ...    0    0    0    0    0    0   \n",
       "3           3  0  0  0  0  0  0  0  0  0  ...    0    0    0    0    0    0   \n",
       "4           4  0  0  0  0  0  0  0  0  0  ...    0    0    0    0    0    0   \n",
       "\n",
       "   107  108  109  110  \n",
       "0    0    0    0    0  \n",
       "1    0    0    0    0  \n",
       "2    0    0    0    0  \n",
       "3    0    0    0    0  \n",
       "4    0    0    0    0  \n",
       "\n",
       "[5 rows x 112 columns]"
      ]
     },
     "execution_count": 234,
     "metadata": {},
     "output_type": "execute_result"
    }
   ],
   "source": [
    "predicted.head()"
   ]
  },
  {
   "cell_type": "code",
   "execution_count": 235,
   "metadata": {
    "executionInfo": {
     "elapsed": 404,
     "status": "ok",
     "timestamp": 1680555704152,
     "user": {
      "displayName": "Vinicius Rogério da Silva",
      "userId": "17284938035144075977"
     },
     "user_tz": 180
    },
    "id": "3R4xRzZPZkCs"
   },
   "outputs": [],
   "source": [
    "final_df = pd.concat([test_data,predicted],axis=1)\n",
    "final_df = final_df.drop(['Unnamed: 0','Title','Abstract'],axis=1)"
   ]
  },
  {
   "cell_type": "code",
   "execution_count": 236,
   "metadata": {
    "colab": {
     "base_uri": "https://localhost:8080/",
     "height": 235
    },
    "executionInfo": {
     "elapsed": 507,
     "status": "ok",
     "timestamp": 1680555707152,
     "user": {
      "displayName": "Vinicius Rogério da Silva",
      "userId": "17284938035144075977"
     },
     "user_tz": 180
    },
    "id": "476_Rgb3ZpaL",
    "outputId": "af38430a-6dbc-4e85-8def-418ed008968f"
   },
   "outputs": [
    {
     "data": {
      "text/html": [
       "\n",
       "  <div id=\"df-3b464d10-d3b4-4697-b886-82ed53d02967\">\n",
       "    <div class=\"colab-df-container\">\n",
       "      <div>\n",
       "<style scoped>\n",
       "    .dataframe tbody tr th:only-of-type {\n",
       "        vertical-align: middle;\n",
       "    }\n",
       "\n",
       "    .dataframe tbody tr th {\n",
       "        vertical-align: top;\n",
       "    }\n",
       "\n",
       "    .dataframe thead th {\n",
       "        text-align: right;\n",
       "    }\n",
       "</style>\n",
       "<table border=\"1\" class=\"dataframe\">\n",
       "  <thead>\n",
       "    <tr style=\"text-align: right;\">\n",
       "      <th></th>\n",
       "      <th>Date</th>\n",
       "      <th>0</th>\n",
       "      <th>1</th>\n",
       "      <th>2</th>\n",
       "      <th>3</th>\n",
       "      <th>4</th>\n",
       "      <th>5</th>\n",
       "      <th>6</th>\n",
       "      <th>7</th>\n",
       "      <th>8</th>\n",
       "      <th>...</th>\n",
       "      <th>101</th>\n",
       "      <th>102</th>\n",
       "      <th>103</th>\n",
       "      <th>104</th>\n",
       "      <th>105</th>\n",
       "      <th>106</th>\n",
       "      <th>107</th>\n",
       "      <th>108</th>\n",
       "      <th>109</th>\n",
       "      <th>110</th>\n",
       "    </tr>\n",
       "  </thead>\n",
       "  <tbody>\n",
       "    <tr>\n",
       "      <th>0</th>\n",
       "      <td>2019-05-01</td>\n",
       "      <td>0</td>\n",
       "      <td>0</td>\n",
       "      <td>0</td>\n",
       "      <td>0</td>\n",
       "      <td>0</td>\n",
       "      <td>0</td>\n",
       "      <td>0</td>\n",
       "      <td>0</td>\n",
       "      <td>0</td>\n",
       "      <td>...</td>\n",
       "      <td>0</td>\n",
       "      <td>0</td>\n",
       "      <td>0</td>\n",
       "      <td>0</td>\n",
       "      <td>0</td>\n",
       "      <td>0</td>\n",
       "      <td>0</td>\n",
       "      <td>0</td>\n",
       "      <td>0</td>\n",
       "      <td>0</td>\n",
       "    </tr>\n",
       "    <tr>\n",
       "      <th>1</th>\n",
       "      <td>2019-05-01</td>\n",
       "      <td>0</td>\n",
       "      <td>0</td>\n",
       "      <td>0</td>\n",
       "      <td>0</td>\n",
       "      <td>0</td>\n",
       "      <td>0</td>\n",
       "      <td>1</td>\n",
       "      <td>0</td>\n",
       "      <td>0</td>\n",
       "      <td>...</td>\n",
       "      <td>0</td>\n",
       "      <td>0</td>\n",
       "      <td>0</td>\n",
       "      <td>0</td>\n",
       "      <td>0</td>\n",
       "      <td>0</td>\n",
       "      <td>0</td>\n",
       "      <td>0</td>\n",
       "      <td>0</td>\n",
       "      <td>0</td>\n",
       "    </tr>\n",
       "    <tr>\n",
       "      <th>2</th>\n",
       "      <td>2019-05-01</td>\n",
       "      <td>0</td>\n",
       "      <td>0</td>\n",
       "      <td>0</td>\n",
       "      <td>0</td>\n",
       "      <td>0</td>\n",
       "      <td>0</td>\n",
       "      <td>0</td>\n",
       "      <td>0</td>\n",
       "      <td>0</td>\n",
       "      <td>...</td>\n",
       "      <td>0</td>\n",
       "      <td>0</td>\n",
       "      <td>0</td>\n",
       "      <td>0</td>\n",
       "      <td>0</td>\n",
       "      <td>0</td>\n",
       "      <td>0</td>\n",
       "      <td>0</td>\n",
       "      <td>0</td>\n",
       "      <td>0</td>\n",
       "    </tr>\n",
       "    <tr>\n",
       "      <th>3</th>\n",
       "      <td>2019-05-01</td>\n",
       "      <td>0</td>\n",
       "      <td>0</td>\n",
       "      <td>0</td>\n",
       "      <td>0</td>\n",
       "      <td>0</td>\n",
       "      <td>0</td>\n",
       "      <td>0</td>\n",
       "      <td>0</td>\n",
       "      <td>0</td>\n",
       "      <td>...</td>\n",
       "      <td>0</td>\n",
       "      <td>0</td>\n",
       "      <td>0</td>\n",
       "      <td>0</td>\n",
       "      <td>0</td>\n",
       "      <td>0</td>\n",
       "      <td>0</td>\n",
       "      <td>0</td>\n",
       "      <td>0</td>\n",
       "      <td>0</td>\n",
       "    </tr>\n",
       "    <tr>\n",
       "      <th>4</th>\n",
       "      <td>2019-05-01</td>\n",
       "      <td>0</td>\n",
       "      <td>0</td>\n",
       "      <td>0</td>\n",
       "      <td>0</td>\n",
       "      <td>0</td>\n",
       "      <td>0</td>\n",
       "      <td>0</td>\n",
       "      <td>0</td>\n",
       "      <td>0</td>\n",
       "      <td>...</td>\n",
       "      <td>0</td>\n",
       "      <td>0</td>\n",
       "      <td>0</td>\n",
       "      <td>0</td>\n",
       "      <td>0</td>\n",
       "      <td>0</td>\n",
       "      <td>0</td>\n",
       "      <td>0</td>\n",
       "      <td>0</td>\n",
       "      <td>0</td>\n",
       "    </tr>\n",
       "  </tbody>\n",
       "</table>\n",
       "<p>5 rows × 112 columns</p>\n",
       "</div>\n",
       "      <button class=\"colab-df-convert\" onclick=\"convertToInteractive('df-3b464d10-d3b4-4697-b886-82ed53d02967')\"\n",
       "              title=\"Convert this dataframe to an interactive table.\"\n",
       "              style=\"display:none;\">\n",
       "        \n",
       "  <svg xmlns=\"http://www.w3.org/2000/svg\" height=\"24px\"viewBox=\"0 0 24 24\"\n",
       "       width=\"24px\">\n",
       "    <path d=\"M0 0h24v24H0V0z\" fill=\"none\"/>\n",
       "    <path d=\"M18.56 5.44l.94 2.06.94-2.06 2.06-.94-2.06-.94-.94-2.06-.94 2.06-2.06.94zm-11 1L8.5 8.5l.94-2.06 2.06-.94-2.06-.94L8.5 2.5l-.94 2.06-2.06.94zm10 10l.94 2.06.94-2.06 2.06-.94-2.06-.94-.94-2.06-.94 2.06-2.06.94z\"/><path d=\"M17.41 7.96l-1.37-1.37c-.4-.4-.92-.59-1.43-.59-.52 0-1.04.2-1.43.59L10.3 9.45l-7.72 7.72c-.78.78-.78 2.05 0 2.83L4 21.41c.39.39.9.59 1.41.59.51 0 1.02-.2 1.41-.59l7.78-7.78 2.81-2.81c.8-.78.8-2.07 0-2.86zM5.41 20L4 18.59l7.72-7.72 1.47 1.35L5.41 20z\"/>\n",
       "  </svg>\n",
       "      </button>\n",
       "      \n",
       "  <style>\n",
       "    .colab-df-container {\n",
       "      display:flex;\n",
       "      flex-wrap:wrap;\n",
       "      gap: 12px;\n",
       "    }\n",
       "\n",
       "    .colab-df-convert {\n",
       "      background-color: #E8F0FE;\n",
       "      border: none;\n",
       "      border-radius: 50%;\n",
       "      cursor: pointer;\n",
       "      display: none;\n",
       "      fill: #1967D2;\n",
       "      height: 32px;\n",
       "      padding: 0 0 0 0;\n",
       "      width: 32px;\n",
       "    }\n",
       "\n",
       "    .colab-df-convert:hover {\n",
       "      background-color: #E2EBFA;\n",
       "      box-shadow: 0px 1px 2px rgba(60, 64, 67, 0.3), 0px 1px 3px 1px rgba(60, 64, 67, 0.15);\n",
       "      fill: #174EA6;\n",
       "    }\n",
       "\n",
       "    [theme=dark] .colab-df-convert {\n",
       "      background-color: #3B4455;\n",
       "      fill: #D2E3FC;\n",
       "    }\n",
       "\n",
       "    [theme=dark] .colab-df-convert:hover {\n",
       "      background-color: #434B5C;\n",
       "      box-shadow: 0px 1px 3px 1px rgba(0, 0, 0, 0.15);\n",
       "      filter: drop-shadow(0px 1px 2px rgba(0, 0, 0, 0.3));\n",
       "      fill: #FFFFFF;\n",
       "    }\n",
       "  </style>\n",
       "\n",
       "      <script>\n",
       "        const buttonEl =\n",
       "          document.querySelector('#df-3b464d10-d3b4-4697-b886-82ed53d02967 button.colab-df-convert');\n",
       "        buttonEl.style.display =\n",
       "          google.colab.kernel.accessAllowed ? 'block' : 'none';\n",
       "\n",
       "        async function convertToInteractive(key) {\n",
       "          const element = document.querySelector('#df-3b464d10-d3b4-4697-b886-82ed53d02967');\n",
       "          const dataTable =\n",
       "            await google.colab.kernel.invokeFunction('convertToInteractive',\n",
       "                                                     [key], {});\n",
       "          if (!dataTable) return;\n",
       "\n",
       "          const docLinkHtml = 'Like what you see? Visit the ' +\n",
       "            '<a target=\"_blank\" href=https://colab.research.google.com/notebooks/data_table.ipynb>data table notebook</a>'\n",
       "            + ' to learn more about interactive tables.';\n",
       "          element.innerHTML = '';\n",
       "          dataTable['output_type'] = 'display_data';\n",
       "          await google.colab.output.renderOutput(dataTable, element);\n",
       "          const docLink = document.createElement('div');\n",
       "          docLink.innerHTML = docLinkHtml;\n",
       "          element.appendChild(docLink);\n",
       "        }\n",
       "      </script>\n",
       "    </div>\n",
       "  </div>\n",
       "  "
      ],
      "text/plain": [
       "         Date  0  1  2  3  4  5  6  7  8  ...  101  102  103  104  105  106  \\\n",
       "0  2019-05-01  0  0  0  0  0  0  0  0  0  ...    0    0    0    0    0    0   \n",
       "1  2019-05-01  0  0  0  0  0  0  1  0  0  ...    0    0    0    0    0    0   \n",
       "2  2019-05-01  0  0  0  0  0  0  0  0  0  ...    0    0    0    0    0    0   \n",
       "3  2019-05-01  0  0  0  0  0  0  0  0  0  ...    0    0    0    0    0    0   \n",
       "4  2019-05-01  0  0  0  0  0  0  0  0  0  ...    0    0    0    0    0    0   \n",
       "\n",
       "   107  108  109  110  \n",
       "0    0    0    0    0  \n",
       "1    0    0    0    0  \n",
       "2    0    0    0    0  \n",
       "3    0    0    0    0  \n",
       "4    0    0    0    0  \n",
       "\n",
       "[5 rows x 112 columns]"
      ]
     },
     "execution_count": 236,
     "metadata": {},
     "output_type": "execute_result"
    }
   ],
   "source": [
    "final_df.head()"
   ]
  },
  {
   "cell_type": "code",
   "execution_count": 237,
   "metadata": {
    "executionInfo": {
     "elapsed": 333,
     "status": "ok",
     "timestamp": 1680555710835,
     "user": {
      "displayName": "Vinicius Rogério da Silva",
      "userId": "17284938035144075977"
     },
     "user_tz": 180
    },
    "id": "tp1Nxxw6dRm1"
   },
   "outputs": [],
   "source": [
    "# Transforming type of date\n",
    "final_df.Date = pd.to_datetime(final_df.Date)\n",
    "grouped_df = final_df.groupby(pd.Grouper(key='Date', freq='1M')).sum()\n",
    "grouped_df = pd.DataFrame(grouped_df)\n",
    "grouped_df.reset_index(inplace=True)\n",
    "grouped_df[\"Date\"] = grouped_df[\"Date\"].dt.to_period('M')"
   ]
  },
  {
   "cell_type": "code",
   "execution_count": 238,
   "metadata": {
    "colab": {
     "base_uri": "https://localhost:8080/",
     "height": 267
    },
    "executionInfo": {
     "elapsed": 535,
     "status": "ok",
     "timestamp": 1680555713621,
     "user": {
      "displayName": "Vinicius Rogério da Silva",
      "userId": "17284938035144075977"
     },
     "user_tz": 180
    },
    "id": "1D9Zgv6ZemFs",
    "outputId": "f3e40c8f-9587-4baf-9671-be60b8227119"
   },
   "outputs": [
    {
     "data": {
      "text/html": [
       "\n",
       "  <div id=\"df-78718d13-25a8-48cd-94ac-81b4ed5daf15\">\n",
       "    <div class=\"colab-df-container\">\n",
       "      <div>\n",
       "<style scoped>\n",
       "    .dataframe tbody tr th:only-of-type {\n",
       "        vertical-align: middle;\n",
       "    }\n",
       "\n",
       "    .dataframe tbody tr th {\n",
       "        vertical-align: top;\n",
       "    }\n",
       "\n",
       "    .dataframe thead th {\n",
       "        text-align: right;\n",
       "    }\n",
       "</style>\n",
       "<table border=\"1\" class=\"dataframe\">\n",
       "  <thead>\n",
       "    <tr style=\"text-align: right;\">\n",
       "      <th></th>\n",
       "      <th>Date</th>\n",
       "      <th>0</th>\n",
       "      <th>1</th>\n",
       "      <th>2</th>\n",
       "      <th>3</th>\n",
       "      <th>4</th>\n",
       "      <th>5</th>\n",
       "      <th>6</th>\n",
       "      <th>7</th>\n",
       "      <th>8</th>\n",
       "      <th>...</th>\n",
       "      <th>101</th>\n",
       "      <th>102</th>\n",
       "      <th>103</th>\n",
       "      <th>104</th>\n",
       "      <th>105</th>\n",
       "      <th>106</th>\n",
       "      <th>107</th>\n",
       "      <th>108</th>\n",
       "      <th>109</th>\n",
       "      <th>110</th>\n",
       "    </tr>\n",
       "  </thead>\n",
       "  <tbody>\n",
       "    <tr>\n",
       "      <th>0</th>\n",
       "      <td>2019-05</td>\n",
       "      <td>0</td>\n",
       "      <td>1</td>\n",
       "      <td>38</td>\n",
       "      <td>38</td>\n",
       "      <td>21</td>\n",
       "      <td>56</td>\n",
       "      <td>105</td>\n",
       "      <td>55</td>\n",
       "      <td>0</td>\n",
       "      <td>...</td>\n",
       "      <td>0</td>\n",
       "      <td>0</td>\n",
       "      <td>0</td>\n",
       "      <td>0</td>\n",
       "      <td>0</td>\n",
       "      <td>0</td>\n",
       "      <td>0</td>\n",
       "      <td>0</td>\n",
       "      <td>0</td>\n",
       "      <td>0</td>\n",
       "    </tr>\n",
       "    <tr>\n",
       "      <th>1</th>\n",
       "      <td>2019-06</td>\n",
       "      <td>0</td>\n",
       "      <td>4</td>\n",
       "      <td>31</td>\n",
       "      <td>35</td>\n",
       "      <td>23</td>\n",
       "      <td>54</td>\n",
       "      <td>94</td>\n",
       "      <td>49</td>\n",
       "      <td>0</td>\n",
       "      <td>...</td>\n",
       "      <td>0</td>\n",
       "      <td>0</td>\n",
       "      <td>0</td>\n",
       "      <td>0</td>\n",
       "      <td>0</td>\n",
       "      <td>0</td>\n",
       "      <td>0</td>\n",
       "      <td>0</td>\n",
       "      <td>0</td>\n",
       "      <td>0</td>\n",
       "    </tr>\n",
       "    <tr>\n",
       "      <th>2</th>\n",
       "      <td>2019-07</td>\n",
       "      <td>0</td>\n",
       "      <td>1</td>\n",
       "      <td>42</td>\n",
       "      <td>34</td>\n",
       "      <td>31</td>\n",
       "      <td>59</td>\n",
       "      <td>97</td>\n",
       "      <td>60</td>\n",
       "      <td>0</td>\n",
       "      <td>...</td>\n",
       "      <td>0</td>\n",
       "      <td>0</td>\n",
       "      <td>0</td>\n",
       "      <td>0</td>\n",
       "      <td>0</td>\n",
       "      <td>0</td>\n",
       "      <td>0</td>\n",
       "      <td>0</td>\n",
       "      <td>0</td>\n",
       "      <td>0</td>\n",
       "    </tr>\n",
       "    <tr>\n",
       "      <th>3</th>\n",
       "      <td>2019-08</td>\n",
       "      <td>0</td>\n",
       "      <td>0</td>\n",
       "      <td>42</td>\n",
       "      <td>35</td>\n",
       "      <td>34</td>\n",
       "      <td>60</td>\n",
       "      <td>104</td>\n",
       "      <td>51</td>\n",
       "      <td>0</td>\n",
       "      <td>...</td>\n",
       "      <td>0</td>\n",
       "      <td>0</td>\n",
       "      <td>0</td>\n",
       "      <td>0</td>\n",
       "      <td>0</td>\n",
       "      <td>0</td>\n",
       "      <td>0</td>\n",
       "      <td>0</td>\n",
       "      <td>0</td>\n",
       "      <td>0</td>\n",
       "    </tr>\n",
       "    <tr>\n",
       "      <th>4</th>\n",
       "      <td>2019-09</td>\n",
       "      <td>0</td>\n",
       "      <td>3</td>\n",
       "      <td>50</td>\n",
       "      <td>42</td>\n",
       "      <td>35</td>\n",
       "      <td>60</td>\n",
       "      <td>111</td>\n",
       "      <td>57</td>\n",
       "      <td>0</td>\n",
       "      <td>...</td>\n",
       "      <td>0</td>\n",
       "      <td>0</td>\n",
       "      <td>0</td>\n",
       "      <td>0</td>\n",
       "      <td>0</td>\n",
       "      <td>0</td>\n",
       "      <td>0</td>\n",
       "      <td>0</td>\n",
       "      <td>0</td>\n",
       "      <td>0</td>\n",
       "    </tr>\n",
       "    <tr>\n",
       "      <th>5</th>\n",
       "      <td>2019-10</td>\n",
       "      <td>0</td>\n",
       "      <td>0</td>\n",
       "      <td>10</td>\n",
       "      <td>9</td>\n",
       "      <td>8</td>\n",
       "      <td>7</td>\n",
       "      <td>32</td>\n",
       "      <td>16</td>\n",
       "      <td>0</td>\n",
       "      <td>...</td>\n",
       "      <td>0</td>\n",
       "      <td>0</td>\n",
       "      <td>0</td>\n",
       "      <td>0</td>\n",
       "      <td>0</td>\n",
       "      <td>0</td>\n",
       "      <td>0</td>\n",
       "      <td>0</td>\n",
       "      <td>0</td>\n",
       "      <td>0</td>\n",
       "    </tr>\n",
       "  </tbody>\n",
       "</table>\n",
       "<p>6 rows × 112 columns</p>\n",
       "</div>\n",
       "      <button class=\"colab-df-convert\" onclick=\"convertToInteractive('df-78718d13-25a8-48cd-94ac-81b4ed5daf15')\"\n",
       "              title=\"Convert this dataframe to an interactive table.\"\n",
       "              style=\"display:none;\">\n",
       "        \n",
       "  <svg xmlns=\"http://www.w3.org/2000/svg\" height=\"24px\"viewBox=\"0 0 24 24\"\n",
       "       width=\"24px\">\n",
       "    <path d=\"M0 0h24v24H0V0z\" fill=\"none\"/>\n",
       "    <path d=\"M18.56 5.44l.94 2.06.94-2.06 2.06-.94-2.06-.94-.94-2.06-.94 2.06-2.06.94zm-11 1L8.5 8.5l.94-2.06 2.06-.94-2.06-.94L8.5 2.5l-.94 2.06-2.06.94zm10 10l.94 2.06.94-2.06 2.06-.94-2.06-.94-.94-2.06-.94 2.06-2.06.94z\"/><path d=\"M17.41 7.96l-1.37-1.37c-.4-.4-.92-.59-1.43-.59-.52 0-1.04.2-1.43.59L10.3 9.45l-7.72 7.72c-.78.78-.78 2.05 0 2.83L4 21.41c.39.39.9.59 1.41.59.51 0 1.02-.2 1.41-.59l7.78-7.78 2.81-2.81c.8-.78.8-2.07 0-2.86zM5.41 20L4 18.59l7.72-7.72 1.47 1.35L5.41 20z\"/>\n",
       "  </svg>\n",
       "      </button>\n",
       "      \n",
       "  <style>\n",
       "    .colab-df-container {\n",
       "      display:flex;\n",
       "      flex-wrap:wrap;\n",
       "      gap: 12px;\n",
       "    }\n",
       "\n",
       "    .colab-df-convert {\n",
       "      background-color: #E8F0FE;\n",
       "      border: none;\n",
       "      border-radius: 50%;\n",
       "      cursor: pointer;\n",
       "      display: none;\n",
       "      fill: #1967D2;\n",
       "      height: 32px;\n",
       "      padding: 0 0 0 0;\n",
       "      width: 32px;\n",
       "    }\n",
       "\n",
       "    .colab-df-convert:hover {\n",
       "      background-color: #E2EBFA;\n",
       "      box-shadow: 0px 1px 2px rgba(60, 64, 67, 0.3), 0px 1px 3px 1px rgba(60, 64, 67, 0.15);\n",
       "      fill: #174EA6;\n",
       "    }\n",
       "\n",
       "    [theme=dark] .colab-df-convert {\n",
       "      background-color: #3B4455;\n",
       "      fill: #D2E3FC;\n",
       "    }\n",
       "\n",
       "    [theme=dark] .colab-df-convert:hover {\n",
       "      background-color: #434B5C;\n",
       "      box-shadow: 0px 1px 3px 1px rgba(0, 0, 0, 0.15);\n",
       "      filter: drop-shadow(0px 1px 2px rgba(0, 0, 0, 0.3));\n",
       "      fill: #FFFFFF;\n",
       "    }\n",
       "  </style>\n",
       "\n",
       "      <script>\n",
       "        const buttonEl =\n",
       "          document.querySelector('#df-78718d13-25a8-48cd-94ac-81b4ed5daf15 button.colab-df-convert');\n",
       "        buttonEl.style.display =\n",
       "          google.colab.kernel.accessAllowed ? 'block' : 'none';\n",
       "\n",
       "        async function convertToInteractive(key) {\n",
       "          const element = document.querySelector('#df-78718d13-25a8-48cd-94ac-81b4ed5daf15');\n",
       "          const dataTable =\n",
       "            await google.colab.kernel.invokeFunction('convertToInteractive',\n",
       "                                                     [key], {});\n",
       "          if (!dataTable) return;\n",
       "\n",
       "          const docLinkHtml = 'Like what you see? Visit the ' +\n",
       "            '<a target=\"_blank\" href=https://colab.research.google.com/notebooks/data_table.ipynb>data table notebook</a>'\n",
       "            + ' to learn more about interactive tables.';\n",
       "          element.innerHTML = '';\n",
       "          dataTable['output_type'] = 'display_data';\n",
       "          await google.colab.output.renderOutput(dataTable, element);\n",
       "          const docLink = document.createElement('div');\n",
       "          docLink.innerHTML = docLinkHtml;\n",
       "          element.appendChild(docLink);\n",
       "        }\n",
       "      </script>\n",
       "    </div>\n",
       "  </div>\n",
       "  "
      ],
      "text/plain": [
       "      Date  0  1   2   3   4   5    6   7  8  ...  101  102  103  104  105  \\\n",
       "0  2019-05  0  1  38  38  21  56  105  55  0  ...    0    0    0    0    0   \n",
       "1  2019-06  0  4  31  35  23  54   94  49  0  ...    0    0    0    0    0   \n",
       "2  2019-07  0  1  42  34  31  59   97  60  0  ...    0    0    0    0    0   \n",
       "3  2019-08  0  0  42  35  34  60  104  51  0  ...    0    0    0    0    0   \n",
       "4  2019-09  0  3  50  42  35  60  111  57  0  ...    0    0    0    0    0   \n",
       "5  2019-10  0  0  10   9   8   7   32  16  0  ...    0    0    0    0    0   \n",
       "\n",
       "   106  107  108  109  110  \n",
       "0    0    0    0    0    0  \n",
       "1    0    0    0    0    0  \n",
       "2    0    0    0    0    0  \n",
       "3    0    0    0    0    0  \n",
       "4    0    0    0    0    0  \n",
       "5    0    0    0    0    0  \n",
       "\n",
       "[6 rows x 112 columns]"
      ]
     },
     "execution_count": 238,
     "metadata": {},
     "output_type": "execute_result"
    }
   ],
   "source": [
    "grouped_df"
   ]
  },
  {
   "cell_type": "code",
   "execution_count": 239,
   "metadata": {
    "executionInfo": {
     "elapsed": 601,
     "status": "ok",
     "timestamp": 1680555717859,
     "user": {
      "displayName": "Vinicius Rogério da Silva",
      "userId": "17284938035144075977"
     },
     "user_tz": 180
    },
    "id": "VFDGIEFNjno9"
   },
   "outputs": [],
   "source": [
    "# Creating list of indexes\n",
    "a = list(range(0,111))\n",
    "indexes = [str(x) for x in a]"
   ]
  },
  {
   "cell_type": "code",
   "execution_count": 240,
   "metadata": {
    "executionInfo": {
     "elapsed": 314,
     "status": "ok",
     "timestamp": 1680555721068,
     "user": {
      "displayName": "Vinicius Rogério da Silva",
      "userId": "17284938035144075977"
     },
     "user_tz": 180
    },
    "id": "k72chuRihfqi"
   },
   "outputs": [],
   "source": [
    "result = pd.melt(grouped_df, id_vars =['Date'], value_vars=indexes)\n",
    "result = result.rename(columns={\"Date\": \"Month\", \"variable\": \"Sub\", \"value\":\"Count\"})"
   ]
  },
  {
   "cell_type": "code",
   "execution_count": 241,
   "metadata": {
    "colab": {
     "base_uri": "https://localhost:8080/",
     "height": 423
    },
    "executionInfo": {
     "elapsed": 575,
     "status": "ok",
     "timestamp": 1680555728742,
     "user": {
      "displayName": "Vinicius Rogério da Silva",
      "userId": "17284938035144075977"
     },
     "user_tz": 180
    },
    "id": "vAyYUGS1g6yP",
    "outputId": "5733af63-4bde-466d-b48e-8d5a8760a0ac"
   },
   "outputs": [
    {
     "data": {
      "text/html": [
       "\n",
       "  <div id=\"df-7f8f6607-1427-453c-909f-3abd4a70a1e2\">\n",
       "    <div class=\"colab-df-container\">\n",
       "      <div>\n",
       "<style scoped>\n",
       "    .dataframe tbody tr th:only-of-type {\n",
       "        vertical-align: middle;\n",
       "    }\n",
       "\n",
       "    .dataframe tbody tr th {\n",
       "        vertical-align: top;\n",
       "    }\n",
       "\n",
       "    .dataframe thead th {\n",
       "        text-align: right;\n",
       "    }\n",
       "</style>\n",
       "<table border=\"1\" class=\"dataframe\">\n",
       "  <thead>\n",
       "    <tr style=\"text-align: right;\">\n",
       "      <th></th>\n",
       "      <th>Month</th>\n",
       "      <th>Sub</th>\n",
       "      <th>Count</th>\n",
       "    </tr>\n",
       "  </thead>\n",
       "  <tbody>\n",
       "    <tr>\n",
       "      <th>0</th>\n",
       "      <td>2019-05</td>\n",
       "      <td>0</td>\n",
       "      <td>0</td>\n",
       "    </tr>\n",
       "    <tr>\n",
       "      <th>1</th>\n",
       "      <td>2019-06</td>\n",
       "      <td>0</td>\n",
       "      <td>0</td>\n",
       "    </tr>\n",
       "    <tr>\n",
       "      <th>2</th>\n",
       "      <td>2019-07</td>\n",
       "      <td>0</td>\n",
       "      <td>0</td>\n",
       "    </tr>\n",
       "    <tr>\n",
       "      <th>3</th>\n",
       "      <td>2019-08</td>\n",
       "      <td>0</td>\n",
       "      <td>0</td>\n",
       "    </tr>\n",
       "    <tr>\n",
       "      <th>4</th>\n",
       "      <td>2019-09</td>\n",
       "      <td>0</td>\n",
       "      <td>0</td>\n",
       "    </tr>\n",
       "    <tr>\n",
       "      <th>...</th>\n",
       "      <td>...</td>\n",
       "      <td>...</td>\n",
       "      <td>...</td>\n",
       "    </tr>\n",
       "    <tr>\n",
       "      <th>661</th>\n",
       "      <td>2019-06</td>\n",
       "      <td>110</td>\n",
       "      <td>0</td>\n",
       "    </tr>\n",
       "    <tr>\n",
       "      <th>662</th>\n",
       "      <td>2019-07</td>\n",
       "      <td>110</td>\n",
       "      <td>0</td>\n",
       "    </tr>\n",
       "    <tr>\n",
       "      <th>663</th>\n",
       "      <td>2019-08</td>\n",
       "      <td>110</td>\n",
       "      <td>0</td>\n",
       "    </tr>\n",
       "    <tr>\n",
       "      <th>664</th>\n",
       "      <td>2019-09</td>\n",
       "      <td>110</td>\n",
       "      <td>0</td>\n",
       "    </tr>\n",
       "    <tr>\n",
       "      <th>665</th>\n",
       "      <td>2019-10</td>\n",
       "      <td>110</td>\n",
       "      <td>0</td>\n",
       "    </tr>\n",
       "  </tbody>\n",
       "</table>\n",
       "<p>666 rows × 3 columns</p>\n",
       "</div>\n",
       "      <button class=\"colab-df-convert\" onclick=\"convertToInteractive('df-7f8f6607-1427-453c-909f-3abd4a70a1e2')\"\n",
       "              title=\"Convert this dataframe to an interactive table.\"\n",
       "              style=\"display:none;\">\n",
       "        \n",
       "  <svg xmlns=\"http://www.w3.org/2000/svg\" height=\"24px\"viewBox=\"0 0 24 24\"\n",
       "       width=\"24px\">\n",
       "    <path d=\"M0 0h24v24H0V0z\" fill=\"none\"/>\n",
       "    <path d=\"M18.56 5.44l.94 2.06.94-2.06 2.06-.94-2.06-.94-.94-2.06-.94 2.06-2.06.94zm-11 1L8.5 8.5l.94-2.06 2.06-.94-2.06-.94L8.5 2.5l-.94 2.06-2.06.94zm10 10l.94 2.06.94-2.06 2.06-.94-2.06-.94-.94-2.06-.94 2.06-2.06.94z\"/><path d=\"M17.41 7.96l-1.37-1.37c-.4-.4-.92-.59-1.43-.59-.52 0-1.04.2-1.43.59L10.3 9.45l-7.72 7.72c-.78.78-.78 2.05 0 2.83L4 21.41c.39.39.9.59 1.41.59.51 0 1.02-.2 1.41-.59l7.78-7.78 2.81-2.81c.8-.78.8-2.07 0-2.86zM5.41 20L4 18.59l7.72-7.72 1.47 1.35L5.41 20z\"/>\n",
       "  </svg>\n",
       "      </button>\n",
       "      \n",
       "  <style>\n",
       "    .colab-df-container {\n",
       "      display:flex;\n",
       "      flex-wrap:wrap;\n",
       "      gap: 12px;\n",
       "    }\n",
       "\n",
       "    .colab-df-convert {\n",
       "      background-color: #E8F0FE;\n",
       "      border: none;\n",
       "      border-radius: 50%;\n",
       "      cursor: pointer;\n",
       "      display: none;\n",
       "      fill: #1967D2;\n",
       "      height: 32px;\n",
       "      padding: 0 0 0 0;\n",
       "      width: 32px;\n",
       "    }\n",
       "\n",
       "    .colab-df-convert:hover {\n",
       "      background-color: #E2EBFA;\n",
       "      box-shadow: 0px 1px 2px rgba(60, 64, 67, 0.3), 0px 1px 3px 1px rgba(60, 64, 67, 0.15);\n",
       "      fill: #174EA6;\n",
       "    }\n",
       "\n",
       "    [theme=dark] .colab-df-convert {\n",
       "      background-color: #3B4455;\n",
       "      fill: #D2E3FC;\n",
       "    }\n",
       "\n",
       "    [theme=dark] .colab-df-convert:hover {\n",
       "      background-color: #434B5C;\n",
       "      box-shadow: 0px 1px 3px 1px rgba(0, 0, 0, 0.15);\n",
       "      filter: drop-shadow(0px 1px 2px rgba(0, 0, 0, 0.3));\n",
       "      fill: #FFFFFF;\n",
       "    }\n",
       "  </style>\n",
       "\n",
       "      <script>\n",
       "        const buttonEl =\n",
       "          document.querySelector('#df-7f8f6607-1427-453c-909f-3abd4a70a1e2 button.colab-df-convert');\n",
       "        buttonEl.style.display =\n",
       "          google.colab.kernel.accessAllowed ? 'block' : 'none';\n",
       "\n",
       "        async function convertToInteractive(key) {\n",
       "          const element = document.querySelector('#df-7f8f6607-1427-453c-909f-3abd4a70a1e2');\n",
       "          const dataTable =\n",
       "            await google.colab.kernel.invokeFunction('convertToInteractive',\n",
       "                                                     [key], {});\n",
       "          if (!dataTable) return;\n",
       "\n",
       "          const docLinkHtml = 'Like what you see? Visit the ' +\n",
       "            '<a target=\"_blank\" href=https://colab.research.google.com/notebooks/data_table.ipynb>data table notebook</a>'\n",
       "            + ' to learn more about interactive tables.';\n",
       "          element.innerHTML = '';\n",
       "          dataTable['output_type'] = 'display_data';\n",
       "          await google.colab.output.renderOutput(dataTable, element);\n",
       "          const docLink = document.createElement('div');\n",
       "          docLink.innerHTML = docLinkHtml;\n",
       "          element.appendChild(docLink);\n",
       "        }\n",
       "      </script>\n",
       "    </div>\n",
       "  </div>\n",
       "  "
      ],
      "text/plain": [
       "       Month  Sub  Count\n",
       "0    2019-05    0      0\n",
       "1    2019-06    0      0\n",
       "2    2019-07    0      0\n",
       "3    2019-08    0      0\n",
       "4    2019-09    0      0\n",
       "..       ...  ...    ...\n",
       "661  2019-06  110      0\n",
       "662  2019-07  110      0\n",
       "663  2019-08  110      0\n",
       "664  2019-09  110      0\n",
       "665  2019-10  110      0\n",
       "\n",
       "[666 rows x 3 columns]"
      ]
     },
     "execution_count": 241,
     "metadata": {},
     "output_type": "execute_result"
    }
   ],
   "source": [
    "result"
   ]
  },
  {
   "cell_type": "markdown",
   "metadata": {
    "id": "VLCyKLPCy9oN"
   },
   "source": [
    "The dataset above still needs to be assigned to the original subjects."
   ]
  },
  {
   "cell_type": "code",
   "execution_count": 244,
   "metadata": {
    "executionInfo": {
     "elapsed": 308,
     "status": "ok",
     "timestamp": 1680555746681,
     "user": {
      "displayName": "Vinicius Rogério da Silva",
      "userId": "17284938035144075977"
     },
     "user_tz": 180
    },
    "id": "xiJ9eyuWlmEK"
   },
   "outputs": [],
   "source": [
    "dictlist = []\n",
    "i=0\n",
    "for orig_sub in mlb.classes_:\n",
    "  dictlist.append([i,orig_sub])\n",
    "  i+=1"
   ]
  },
  {
   "cell_type": "code",
   "execution_count": 245,
   "metadata": {
    "executionInfo": {
     "elapsed": 323,
     "status": "ok",
     "timestamp": 1680555749714,
     "user": {
      "displayName": "Vinicius Rogério da Silva",
      "userId": "17284938035144075977"
     },
     "user_tz": 180
    },
    "id": "qQVgiRsgsGdW"
   },
   "outputs": [],
   "source": [
    "mapping = pd.DataFrame(dictlist)\n",
    "mapping = mapping.rename(columns={0: \"Sub\", 1: \"Subject\"})\n",
    "mapping.Sub = mapping.Sub.astype(str)"
   ]
  },
  {
   "cell_type": "code",
   "execution_count": 276,
   "metadata": {
    "colab": {
     "base_uri": "https://localhost:8080/",
     "height": 423
    },
    "executionInfo": {
     "elapsed": 554,
     "status": "ok",
     "timestamp": 1680559085645,
     "user": {
      "displayName": "Vinicius Rogério da Silva",
      "userId": "17284938035144075977"
     },
     "user_tz": 180
    },
    "id": "r1JLmGUCs5LZ",
    "outputId": "8b33a806-6239-46b1-cbb7-f39b032aa8f6"
   },
   "outputs": [
    {
     "data": {
      "text/html": [
       "\n",
       "  <div id=\"df-ac3b992b-70be-44d5-93f9-daf58d5905a7\">\n",
       "    <div class=\"colab-df-container\">\n",
       "      <div>\n",
       "<style scoped>\n",
       "    .dataframe tbody tr th:only-of-type {\n",
       "        vertical-align: middle;\n",
       "    }\n",
       "\n",
       "    .dataframe tbody tr th {\n",
       "        vertical-align: top;\n",
       "    }\n",
       "\n",
       "    .dataframe thead th {\n",
       "        text-align: right;\n",
       "    }\n",
       "</style>\n",
       "<table border=\"1\" class=\"dataframe\">\n",
       "  <thead>\n",
       "    <tr style=\"text-align: right;\">\n",
       "      <th></th>\n",
       "      <th>Month</th>\n",
       "      <th>Subject</th>\n",
       "      <th>Count</th>\n",
       "    </tr>\n",
       "  </thead>\n",
       "  <tbody>\n",
       "    <tr>\n",
       "      <th>0</th>\n",
       "      <td>2019-05</td>\n",
       "      <td>Astronomy and Astrophysics</td>\n",
       "      <td>0</td>\n",
       "    </tr>\n",
       "    <tr>\n",
       "      <th>6</th>\n",
       "      <td>2019-05</td>\n",
       "      <td>Astrophysics</td>\n",
       "      <td>1</td>\n",
       "    </tr>\n",
       "    <tr>\n",
       "      <th>12</th>\n",
       "      <td>2019-05</td>\n",
       "      <td>Astrophysics - Astrophysics of Galaxies</td>\n",
       "      <td>38</td>\n",
       "    </tr>\n",
       "    <tr>\n",
       "      <th>18</th>\n",
       "      <td>2019-05</td>\n",
       "      <td>Astrophysics - Cosmology and Nongalactic Astro...</td>\n",
       "      <td>38</td>\n",
       "    </tr>\n",
       "    <tr>\n",
       "      <th>24</th>\n",
       "      <td>2019-05</td>\n",
       "      <td>Astrophysics - Earth and Planetary Astrophysics</td>\n",
       "      <td>21</td>\n",
       "    </tr>\n",
       "    <tr>\n",
       "      <th>...</th>\n",
       "      <td>...</td>\n",
       "      <td>...</td>\n",
       "      <td>...</td>\n",
       "    </tr>\n",
       "    <tr>\n",
       "      <th>641</th>\n",
       "      <td>2019-10</td>\n",
       "      <td>Statistics - Applications</td>\n",
       "      <td>0</td>\n",
       "    </tr>\n",
       "    <tr>\n",
       "      <th>647</th>\n",
       "      <td>2019-10</td>\n",
       "      <td>Statistics - Computation</td>\n",
       "      <td>0</td>\n",
       "    </tr>\n",
       "    <tr>\n",
       "      <th>653</th>\n",
       "      <td>2019-10</td>\n",
       "      <td>Statistics - Machine Learning</td>\n",
       "      <td>0</td>\n",
       "    </tr>\n",
       "    <tr>\n",
       "      <th>659</th>\n",
       "      <td>2019-10</td>\n",
       "      <td>Statistics - Methodology</td>\n",
       "      <td>0</td>\n",
       "    </tr>\n",
       "    <tr>\n",
       "      <th>665</th>\n",
       "      <td>2019-10</td>\n",
       "      <td>Statistics - Other Statistics</td>\n",
       "      <td>0</td>\n",
       "    </tr>\n",
       "  </tbody>\n",
       "</table>\n",
       "<p>666 rows × 3 columns</p>\n",
       "</div>\n",
       "      <button class=\"colab-df-convert\" onclick=\"convertToInteractive('df-ac3b992b-70be-44d5-93f9-daf58d5905a7')\"\n",
       "              title=\"Convert this dataframe to an interactive table.\"\n",
       "              style=\"display:none;\">\n",
       "        \n",
       "  <svg xmlns=\"http://www.w3.org/2000/svg\" height=\"24px\"viewBox=\"0 0 24 24\"\n",
       "       width=\"24px\">\n",
       "    <path d=\"M0 0h24v24H0V0z\" fill=\"none\"/>\n",
       "    <path d=\"M18.56 5.44l.94 2.06.94-2.06 2.06-.94-2.06-.94-.94-2.06-.94 2.06-2.06.94zm-11 1L8.5 8.5l.94-2.06 2.06-.94-2.06-.94L8.5 2.5l-.94 2.06-2.06.94zm10 10l.94 2.06.94-2.06 2.06-.94-2.06-.94-.94-2.06-.94 2.06-2.06.94z\"/><path d=\"M17.41 7.96l-1.37-1.37c-.4-.4-.92-.59-1.43-.59-.52 0-1.04.2-1.43.59L10.3 9.45l-7.72 7.72c-.78.78-.78 2.05 0 2.83L4 21.41c.39.39.9.59 1.41.59.51 0 1.02-.2 1.41-.59l7.78-7.78 2.81-2.81c.8-.78.8-2.07 0-2.86zM5.41 20L4 18.59l7.72-7.72 1.47 1.35L5.41 20z\"/>\n",
       "  </svg>\n",
       "      </button>\n",
       "      \n",
       "  <style>\n",
       "    .colab-df-container {\n",
       "      display:flex;\n",
       "      flex-wrap:wrap;\n",
       "      gap: 12px;\n",
       "    }\n",
       "\n",
       "    .colab-df-convert {\n",
       "      background-color: #E8F0FE;\n",
       "      border: none;\n",
       "      border-radius: 50%;\n",
       "      cursor: pointer;\n",
       "      display: none;\n",
       "      fill: #1967D2;\n",
       "      height: 32px;\n",
       "      padding: 0 0 0 0;\n",
       "      width: 32px;\n",
       "    }\n",
       "\n",
       "    .colab-df-convert:hover {\n",
       "      background-color: #E2EBFA;\n",
       "      box-shadow: 0px 1px 2px rgba(60, 64, 67, 0.3), 0px 1px 3px 1px rgba(60, 64, 67, 0.15);\n",
       "      fill: #174EA6;\n",
       "    }\n",
       "\n",
       "    [theme=dark] .colab-df-convert {\n",
       "      background-color: #3B4455;\n",
       "      fill: #D2E3FC;\n",
       "    }\n",
       "\n",
       "    [theme=dark] .colab-df-convert:hover {\n",
       "      background-color: #434B5C;\n",
       "      box-shadow: 0px 1px 3px 1px rgba(0, 0, 0, 0.15);\n",
       "      filter: drop-shadow(0px 1px 2px rgba(0, 0, 0, 0.3));\n",
       "      fill: #FFFFFF;\n",
       "    }\n",
       "  </style>\n",
       "\n",
       "      <script>\n",
       "        const buttonEl =\n",
       "          document.querySelector('#df-ac3b992b-70be-44d5-93f9-daf58d5905a7 button.colab-df-convert');\n",
       "        buttonEl.style.display =\n",
       "          google.colab.kernel.accessAllowed ? 'block' : 'none';\n",
       "\n",
       "        async function convertToInteractive(key) {\n",
       "          const element = document.querySelector('#df-ac3b992b-70be-44d5-93f9-daf58d5905a7');\n",
       "          const dataTable =\n",
       "            await google.colab.kernel.invokeFunction('convertToInteractive',\n",
       "                                                     [key], {});\n",
       "          if (!dataTable) return;\n",
       "\n",
       "          const docLinkHtml = 'Like what you see? Visit the ' +\n",
       "            '<a target=\"_blank\" href=https://colab.research.google.com/notebooks/data_table.ipynb>data table notebook</a>'\n",
       "            + ' to learn more about interactive tables.';\n",
       "          element.innerHTML = '';\n",
       "          dataTable['output_type'] = 'display_data';\n",
       "          await google.colab.output.renderOutput(dataTable, element);\n",
       "          const docLink = document.createElement('div');\n",
       "          docLink.innerHTML = docLinkHtml;\n",
       "          element.appendChild(docLink);\n",
       "        }\n",
       "      </script>\n",
       "    </div>\n",
       "  </div>\n",
       "  "
      ],
      "text/plain": [
       "       Month                                            Subject  Count\n",
       "0    2019-05                         Astronomy and Astrophysics      0\n",
       "6    2019-05                                       Astrophysics      1\n",
       "12   2019-05            Astrophysics - Astrophysics of Galaxies     38\n",
       "18   2019-05  Astrophysics - Cosmology and Nongalactic Astro...     38\n",
       "24   2019-05    Astrophysics - Earth and Planetary Astrophysics     21\n",
       "..       ...                                                ...    ...\n",
       "641  2019-10                          Statistics - Applications      0\n",
       "647  2019-10                           Statistics - Computation      0\n",
       "653  2019-10                      Statistics - Machine Learning      0\n",
       "659  2019-10                           Statistics - Methodology      0\n",
       "665  2019-10                      Statistics - Other Statistics      0\n",
       "\n",
       "[666 rows x 3 columns]"
      ]
     },
     "execution_count": 276,
     "metadata": {},
     "output_type": "execute_result"
    }
   ],
   "source": [
    "new_df = pd.merge(result, mapping, on=[\"Sub\"])\n",
    "new_df = new_df.drop(\"Sub\",axis=1)\n",
    "cols = ['Month','Subject','Count']\n",
    "new_df = new_df[cols].sort_values(by=[\"Month\",\"Subject\"],ascending=True)\n",
    "new_df"
   ]
  },
  {
   "cell_type": "code",
   "execution_count": 277,
   "metadata": {
    "executionInfo": {
     "elapsed": 557,
     "status": "ok",
     "timestamp": 1680559089448,
     "user": {
      "displayName": "Vinicius Rogério da Silva",
      "userId": "17284938035144075977"
     },
     "user_tz": 180
    },
    "id": "mZx1TxdrFyYH"
   },
   "outputs": [],
   "source": [
    "new_month = ['May - 19' if '05' in month\n",
    "             else 'Jun - 19' if '06' in month\n",
    "             else 'Jul - 19' if '07' in month\n",
    "             else 'Aug - 19' if '08' in month\n",
    "             else 'Sept - 19' if '09' in month\n",
    "             else 'Oct - 19'\n",
    "             for month in list(new_df.Month.astype(str))]"
   ]
  },
  {
   "cell_type": "code",
   "execution_count": 278,
   "metadata": {
    "executionInfo": {
     "elapsed": 608,
     "status": "ok",
     "timestamp": 1680559092624,
     "user": {
      "displayName": "Vinicius Rogério da Silva",
      "userId": "17284938035144075977"
     },
     "user_tz": 180
    },
    "id": "ZE9-KBE-GgWO"
   },
   "outputs": [],
   "source": [
    "new_df[\"Month\"] = new_month"
   ]
  },
  {
   "cell_type": "code",
   "execution_count": 279,
   "metadata": {
    "colab": {
     "base_uri": "https://localhost:8080/",
     "height": 423
    },
    "executionInfo": {
     "elapsed": 548,
     "status": "ok",
     "timestamp": 1680559094477,
     "user": {
      "displayName": "Vinicius Rogério da Silva",
      "userId": "17284938035144075977"
     },
     "user_tz": 180
    },
    "id": "7sBtdJqxH8CV",
    "outputId": "f5f279f8-4242-42e5-83e2-ec361453deb2"
   },
   "outputs": [
    {
     "data": {
      "text/html": [
       "\n",
       "  <div id=\"df-3a12b2be-d2ef-4252-b675-c8d43b28c47a\">\n",
       "    <div class=\"colab-df-container\">\n",
       "      <div>\n",
       "<style scoped>\n",
       "    .dataframe tbody tr th:only-of-type {\n",
       "        vertical-align: middle;\n",
       "    }\n",
       "\n",
       "    .dataframe tbody tr th {\n",
       "        vertical-align: top;\n",
       "    }\n",
       "\n",
       "    .dataframe thead th {\n",
       "        text-align: right;\n",
       "    }\n",
       "</style>\n",
       "<table border=\"1\" class=\"dataframe\">\n",
       "  <thead>\n",
       "    <tr style=\"text-align: right;\">\n",
       "      <th></th>\n",
       "      <th>Month</th>\n",
       "      <th>Subject</th>\n",
       "      <th>Count</th>\n",
       "    </tr>\n",
       "  </thead>\n",
       "  <tbody>\n",
       "    <tr>\n",
       "      <th>0</th>\n",
       "      <td>May - 19</td>\n",
       "      <td>Astronomy and Astrophysics</td>\n",
       "      <td>0</td>\n",
       "    </tr>\n",
       "    <tr>\n",
       "      <th>6</th>\n",
       "      <td>May - 19</td>\n",
       "      <td>Astrophysics</td>\n",
       "      <td>1</td>\n",
       "    </tr>\n",
       "    <tr>\n",
       "      <th>12</th>\n",
       "      <td>May - 19</td>\n",
       "      <td>Astrophysics - Astrophysics of Galaxies</td>\n",
       "      <td>38</td>\n",
       "    </tr>\n",
       "    <tr>\n",
       "      <th>18</th>\n",
       "      <td>May - 19</td>\n",
       "      <td>Astrophysics - Cosmology and Nongalactic Astro...</td>\n",
       "      <td>38</td>\n",
       "    </tr>\n",
       "    <tr>\n",
       "      <th>24</th>\n",
       "      <td>May - 19</td>\n",
       "      <td>Astrophysics - Earth and Planetary Astrophysics</td>\n",
       "      <td>21</td>\n",
       "    </tr>\n",
       "    <tr>\n",
       "      <th>...</th>\n",
       "      <td>...</td>\n",
       "      <td>...</td>\n",
       "      <td>...</td>\n",
       "    </tr>\n",
       "    <tr>\n",
       "      <th>641</th>\n",
       "      <td>Oct - 19</td>\n",
       "      <td>Statistics - Applications</td>\n",
       "      <td>0</td>\n",
       "    </tr>\n",
       "    <tr>\n",
       "      <th>647</th>\n",
       "      <td>Oct - 19</td>\n",
       "      <td>Statistics - Computation</td>\n",
       "      <td>0</td>\n",
       "    </tr>\n",
       "    <tr>\n",
       "      <th>653</th>\n",
       "      <td>Oct - 19</td>\n",
       "      <td>Statistics - Machine Learning</td>\n",
       "      <td>0</td>\n",
       "    </tr>\n",
       "    <tr>\n",
       "      <th>659</th>\n",
       "      <td>Oct - 19</td>\n",
       "      <td>Statistics - Methodology</td>\n",
       "      <td>0</td>\n",
       "    </tr>\n",
       "    <tr>\n",
       "      <th>665</th>\n",
       "      <td>Oct - 19</td>\n",
       "      <td>Statistics - Other Statistics</td>\n",
       "      <td>0</td>\n",
       "    </tr>\n",
       "  </tbody>\n",
       "</table>\n",
       "<p>666 rows × 3 columns</p>\n",
       "</div>\n",
       "      <button class=\"colab-df-convert\" onclick=\"convertToInteractive('df-3a12b2be-d2ef-4252-b675-c8d43b28c47a')\"\n",
       "              title=\"Convert this dataframe to an interactive table.\"\n",
       "              style=\"display:none;\">\n",
       "        \n",
       "  <svg xmlns=\"http://www.w3.org/2000/svg\" height=\"24px\"viewBox=\"0 0 24 24\"\n",
       "       width=\"24px\">\n",
       "    <path d=\"M0 0h24v24H0V0z\" fill=\"none\"/>\n",
       "    <path d=\"M18.56 5.44l.94 2.06.94-2.06 2.06-.94-2.06-.94-.94-2.06-.94 2.06-2.06.94zm-11 1L8.5 8.5l.94-2.06 2.06-.94-2.06-.94L8.5 2.5l-.94 2.06-2.06.94zm10 10l.94 2.06.94-2.06 2.06-.94-2.06-.94-.94-2.06-.94 2.06-2.06.94z\"/><path d=\"M17.41 7.96l-1.37-1.37c-.4-.4-.92-.59-1.43-.59-.52 0-1.04.2-1.43.59L10.3 9.45l-7.72 7.72c-.78.78-.78 2.05 0 2.83L4 21.41c.39.39.9.59 1.41.59.51 0 1.02-.2 1.41-.59l7.78-7.78 2.81-2.81c.8-.78.8-2.07 0-2.86zM5.41 20L4 18.59l7.72-7.72 1.47 1.35L5.41 20z\"/>\n",
       "  </svg>\n",
       "      </button>\n",
       "      \n",
       "  <style>\n",
       "    .colab-df-container {\n",
       "      display:flex;\n",
       "      flex-wrap:wrap;\n",
       "      gap: 12px;\n",
       "    }\n",
       "\n",
       "    .colab-df-convert {\n",
       "      background-color: #E8F0FE;\n",
       "      border: none;\n",
       "      border-radius: 50%;\n",
       "      cursor: pointer;\n",
       "      display: none;\n",
       "      fill: #1967D2;\n",
       "      height: 32px;\n",
       "      padding: 0 0 0 0;\n",
       "      width: 32px;\n",
       "    }\n",
       "\n",
       "    .colab-df-convert:hover {\n",
       "      background-color: #E2EBFA;\n",
       "      box-shadow: 0px 1px 2px rgba(60, 64, 67, 0.3), 0px 1px 3px 1px rgba(60, 64, 67, 0.15);\n",
       "      fill: #174EA6;\n",
       "    }\n",
       "\n",
       "    [theme=dark] .colab-df-convert {\n",
       "      background-color: #3B4455;\n",
       "      fill: #D2E3FC;\n",
       "    }\n",
       "\n",
       "    [theme=dark] .colab-df-convert:hover {\n",
       "      background-color: #434B5C;\n",
       "      box-shadow: 0px 1px 3px 1px rgba(0, 0, 0, 0.15);\n",
       "      filter: drop-shadow(0px 1px 2px rgba(0, 0, 0, 0.3));\n",
       "      fill: #FFFFFF;\n",
       "    }\n",
       "  </style>\n",
       "\n",
       "      <script>\n",
       "        const buttonEl =\n",
       "          document.querySelector('#df-3a12b2be-d2ef-4252-b675-c8d43b28c47a button.colab-df-convert');\n",
       "        buttonEl.style.display =\n",
       "          google.colab.kernel.accessAllowed ? 'block' : 'none';\n",
       "\n",
       "        async function convertToInteractive(key) {\n",
       "          const element = document.querySelector('#df-3a12b2be-d2ef-4252-b675-c8d43b28c47a');\n",
       "          const dataTable =\n",
       "            await google.colab.kernel.invokeFunction('convertToInteractive',\n",
       "                                                     [key], {});\n",
       "          if (!dataTable) return;\n",
       "\n",
       "          const docLinkHtml = 'Like what you see? Visit the ' +\n",
       "            '<a target=\"_blank\" href=https://colab.research.google.com/notebooks/data_table.ipynb>data table notebook</a>'\n",
       "            + ' to learn more about interactive tables.';\n",
       "          element.innerHTML = '';\n",
       "          dataTable['output_type'] = 'display_data';\n",
       "          await google.colab.output.renderOutput(dataTable, element);\n",
       "          const docLink = document.createElement('div');\n",
       "          docLink.innerHTML = docLinkHtml;\n",
       "          element.appendChild(docLink);\n",
       "        }\n",
       "      </script>\n",
       "    </div>\n",
       "  </div>\n",
       "  "
      ],
      "text/plain": [
       "        Month                                            Subject  Count\n",
       "0    May - 19                         Astronomy and Astrophysics      0\n",
       "6    May - 19                                       Astrophysics      1\n",
       "12   May - 19            Astrophysics - Astrophysics of Galaxies     38\n",
       "18   May - 19  Astrophysics - Cosmology and Nongalactic Astro...     38\n",
       "24   May - 19    Astrophysics - Earth and Planetary Astrophysics     21\n",
       "..        ...                                                ...    ...\n",
       "641  Oct - 19                          Statistics - Applications      0\n",
       "647  Oct - 19                           Statistics - Computation      0\n",
       "653  Oct - 19                      Statistics - Machine Learning      0\n",
       "659  Oct - 19                           Statistics - Methodology      0\n",
       "665  Oct - 19                      Statistics - Other Statistics      0\n",
       "\n",
       "[666 rows x 3 columns]"
      ]
     },
     "execution_count": 279,
     "metadata": {},
     "output_type": "execute_result"
    }
   ],
   "source": [
    "new_df"
   ]
  },
  {
   "cell_type": "markdown",
   "metadata": {
    "id": "kUxrXyNDzIvd"
   },
   "source": [
    "After performing all of these transformations, we can finally export the Submit file."
   ]
  },
  {
   "cell_type": "code",
   "execution_count": 280,
   "metadata": {
    "executionInfo": {
     "elapsed": 2,
     "status": "ok",
     "timestamp": 1680559102041,
     "user": {
      "displayName": "Vinicius Rogério da Silva",
      "userId": "17284938035144075977"
     },
     "user_tz": 180
    },
    "id": "jqLLUueltyxU"
   },
   "outputs": [],
   "source": [
    "new_df.to_csv(\"Submit.csv\",index=False)"
   ]
  },
  {
   "cell_type": "markdown",
   "metadata": {
    "id": "IJz73NiiLmOj"
   },
   "source": [
    "# Conclusion\n",
    "\n",
    "After going through all the modeling process, we were able to select a model to predict the number of articles on each subject by months of the Test Data.\n",
    "\n",
    "Altough our performance metrics might not be the best possible, this model can be a starting point for that task.\n",
    "\n",
    "### The answer to the proposed questions follow:\n",
    "\n",
    "* I've first tried using Decision Trees, because they have proven to be good algorithms for generating models for classification tasks, and are largely used. Same reason came for using Random Forests, because since they're ensambles of Decision Trees, their combination can lead to enhanced performance. Finally, using MLPClassifier was a choice based in my computational limitations, since other ANN-based models are more complex to adjust and tend to take a lot more time and resources. Despite that, it was interesting to have classical ML compared to a Deep Learning approach.\n",
    "\n",
    "* Since no original labels have been given in Test_Data, the performance of the models had to be assessed through an evaluation subset. This is a common practice in real life applications, where non-labeled data is the input of a model in production. The metrics used to measure the performance have been accuracy, precision, recall and f1-score.\n",
    "\n",
    "* If I had only another day, I would try fitting other ANN-based models, or even adjust an MLPClassifier using a higher number of layers and nodes for each layer. This would probably take many hours to run, but maybe could increase performance.\n",
    "\n",
    "* If I had another week, I would do the same as described before, plus a deeper literature review on the subject. I would also study, compare and test multiple combinations of hyperparameters for the models, affecting their performance in better depth. Beyond that, it would be interesting to test different architechtures of ANNs and see how they would affect performance in this particular problem. I would also try to fit a Logistic Regression model, since I had no success when I tried to do so, because some of the subjects have only a single occurrence in the whole Train_Data. It could also be nice to better analyse both stopword removal and lemmatization processes, since they have been performed in their most standard form. Finally, I would also perform some code refactoring, since I'm aware that my code is not in the ideal form in terms of readability and maintenance, and this notebook could also be more readable.\n",
    "\n",
    "* The estimated score for the MLPClassifier model was an f1-score of 0.7076. It's also worth pointing out that the overall accuracy of this model was 0.4691, outperforming the Decision Tree, but staying at about the same level of the Random Forest. Maybe some better parametrization of the Random Forest could even be able to outperform the MLPClassifier in all the metrics, but I couldn't get that done on time."
   ]
  },
  {
   "cell_type": "markdown",
   "metadata": {
    "id": "RGOBdy4n9g3W"
   },
   "source": [
    "Please feel free to contact me.\n",
    "\n",
    "[LinkedIn](https://www.linkedin.com/in/viniciusrogerio/) | [RPubs](https://rpubs.com/viniciusrogerio) | [GitHub](https://github.com/viniciusrogerio)"
   ]
  }
 ],
 "metadata": {
  "accelerator": "GPU",
  "colab": {
   "authorship_tag": "ABX9TyNhg957hem1CvhBJKs1C323",
   "machine_shape": "hm",
   "provenance": []
  },
  "gpuClass": "standard",
  "kernelspec": {
   "display_name": "Python 3",
   "name": "python3"
  },
  "language_info": {
   "name": "python"
  }
 },
 "nbformat": 4,
 "nbformat_minor": 0
}
